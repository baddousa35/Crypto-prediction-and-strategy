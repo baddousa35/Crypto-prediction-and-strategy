{
 "cells": [
  {
   "attachments": {},
   "cell_type": "markdown",
   "metadata": {},
   "source": [
    "# SOL price prediction"
   ]
  },
  {
   "cell_type": "code",
   "execution_count": 1,
   "metadata": {},
   "outputs": [],
   "source": [
    "import pandas as pd\n",
    "import numpy as np \n",
    "import matplotlib.pyplot as plt\n",
    "import seaborn as sns"
   ]
  },
  {
   "cell_type": "code",
   "execution_count": 2,
   "metadata": {},
   "outputs": [],
   "source": [
    "data = pd.read_csv('SOL-USD.csv')"
   ]
  },
  {
   "cell_type": "code",
   "execution_count": 3,
   "metadata": {},
   "outputs": [
    {
     "data": {
      "text/html": [
       "<div>\n",
       "<style scoped>\n",
       "    .dataframe tbody tr th:only-of-type {\n",
       "        vertical-align: middle;\n",
       "    }\n",
       "\n",
       "    .dataframe tbody tr th {\n",
       "        vertical-align: top;\n",
       "    }\n",
       "\n",
       "    .dataframe thead th {\n",
       "        text-align: right;\n",
       "    }\n",
       "</style>\n",
       "<table border=\"1\" class=\"dataframe\">\n",
       "  <thead>\n",
       "    <tr style=\"text-align: right;\">\n",
       "      <th></th>\n",
       "      <th>Date</th>\n",
       "      <th>Open</th>\n",
       "      <th>High</th>\n",
       "      <th>Low</th>\n",
       "      <th>Close</th>\n",
       "      <th>Adj Close</th>\n",
       "      <th>Volume</th>\n",
       "    </tr>\n",
       "  </thead>\n",
       "  <tbody>\n",
       "    <tr>\n",
       "      <th>0</th>\n",
       "      <td>2020-04-10</td>\n",
       "      <td>0.832005</td>\n",
       "      <td>1.313487</td>\n",
       "      <td>0.694187</td>\n",
       "      <td>0.951054</td>\n",
       "      <td>0.951054</td>\n",
       "      <td>87364276</td>\n",
       "    </tr>\n",
       "    <tr>\n",
       "      <th>1</th>\n",
       "      <td>2020-04-11</td>\n",
       "      <td>0.951054</td>\n",
       "      <td>1.049073</td>\n",
       "      <td>0.765020</td>\n",
       "      <td>0.776819</td>\n",
       "      <td>0.776819</td>\n",
       "      <td>43862444</td>\n",
       "    </tr>\n",
       "    <tr>\n",
       "      <th>2</th>\n",
       "      <td>2020-04-12</td>\n",
       "      <td>0.785448</td>\n",
       "      <td>0.956670</td>\n",
       "      <td>0.762426</td>\n",
       "      <td>0.882507</td>\n",
       "      <td>0.882507</td>\n",
       "      <td>38736897</td>\n",
       "    </tr>\n",
       "    <tr>\n",
       "      <th>3</th>\n",
       "      <td>2020-04-13</td>\n",
       "      <td>0.890760</td>\n",
       "      <td>0.891603</td>\n",
       "      <td>0.773976</td>\n",
       "      <td>0.777832</td>\n",
       "      <td>0.777832</td>\n",
       "      <td>18211285</td>\n",
       "    </tr>\n",
       "    <tr>\n",
       "      <th>4</th>\n",
       "      <td>2020-04-14</td>\n",
       "      <td>0.777832</td>\n",
       "      <td>0.796472</td>\n",
       "      <td>0.628169</td>\n",
       "      <td>0.661925</td>\n",
       "      <td>0.661925</td>\n",
       "      <td>16747614</td>\n",
       "    </tr>\n",
       "  </tbody>\n",
       "</table>\n",
       "</div>"
      ],
      "text/plain": [
       "         Date      Open      High       Low     Close  Adj Close    Volume\n",
       "0  2020-04-10  0.832005  1.313487  0.694187  0.951054   0.951054  87364276\n",
       "1  2020-04-11  0.951054  1.049073  0.765020  0.776819   0.776819  43862444\n",
       "2  2020-04-12  0.785448  0.956670  0.762426  0.882507   0.882507  38736897\n",
       "3  2020-04-13  0.890760  0.891603  0.773976  0.777832   0.777832  18211285\n",
       "4  2020-04-14  0.777832  0.796472  0.628169  0.661925   0.661925  16747614"
      ]
     },
     "execution_count": 3,
     "metadata": {},
     "output_type": "execute_result"
    }
   ],
   "source": [
    "data.head(5)"
   ]
  },
  {
   "attachments": {},
   "cell_type": "markdown",
   "metadata": {},
   "source": [
    "### Adding features"
   ]
  },
  {
   "cell_type": "code",
   "execution_count": 4,
   "metadata": {},
   "outputs": [],
   "source": [
    "year = []\n",
    "month=[]\n",
    "day=[]\n",
    "for i in data['Date'].values:\n",
    "    x = i.split('-')\n",
    "    year.append(int(x[0]))\n",
    "    month.append(int(x[1]))\n",
    "    day.append(int(x[2]))\n",
    "data['Year'] = year\n",
    "data['Month'] = month\n",
    "data['Day'] = day"
   ]
  },
  {
   "cell_type": "code",
   "execution_count": 5,
   "metadata": {},
   "outputs": [
    {
     "data": {
      "text/html": [
       "<div>\n",
       "<style scoped>\n",
       "    .dataframe tbody tr th:only-of-type {\n",
       "        vertical-align: middle;\n",
       "    }\n",
       "\n",
       "    .dataframe tbody tr th {\n",
       "        vertical-align: top;\n",
       "    }\n",
       "\n",
       "    .dataframe thead th {\n",
       "        text-align: right;\n",
       "    }\n",
       "</style>\n",
       "<table border=\"1\" class=\"dataframe\">\n",
       "  <thead>\n",
       "    <tr style=\"text-align: right;\">\n",
       "      <th></th>\n",
       "      <th>Date</th>\n",
       "      <th>Open</th>\n",
       "      <th>High</th>\n",
       "      <th>Low</th>\n",
       "      <th>Close</th>\n",
       "      <th>Adj Close</th>\n",
       "      <th>Volume</th>\n",
       "      <th>Year</th>\n",
       "      <th>Month</th>\n",
       "      <th>Day</th>\n",
       "    </tr>\n",
       "  </thead>\n",
       "  <tbody>\n",
       "    <tr>\n",
       "      <th>872</th>\n",
       "      <td>2022-08-30</td>\n",
       "      <td>32.460041</td>\n",
       "      <td>33.072636</td>\n",
       "      <td>30.796524</td>\n",
       "      <td>31.412056</td>\n",
       "      <td>31.412056</td>\n",
       "      <td>861409804</td>\n",
       "      <td>2022</td>\n",
       "      <td>8</td>\n",
       "      <td>30</td>\n",
       "    </tr>\n",
       "    <tr>\n",
       "      <th>1055</th>\n",
       "      <td>2023-03-01</td>\n",
       "      <td>21.912136</td>\n",
       "      <td>22.795338</td>\n",
       "      <td>21.738678</td>\n",
       "      <td>22.506432</td>\n",
       "      <td>22.506432</td>\n",
       "      <td>346532018</td>\n",
       "      <td>2023</td>\n",
       "      <td>3</td>\n",
       "      <td>1</td>\n",
       "    </tr>\n",
       "    <tr>\n",
       "      <th>288</th>\n",
       "      <td>2021-01-23</td>\n",
       "      <td>3.341035</td>\n",
       "      <td>3.597302</td>\n",
       "      <td>3.315762</td>\n",
       "      <td>3.504112</td>\n",
       "      <td>3.504112</td>\n",
       "      <td>27904470</td>\n",
       "      <td>2021</td>\n",
       "      <td>1</td>\n",
       "      <td>23</td>\n",
       "    </tr>\n",
       "    <tr>\n",
       "      <th>91</th>\n",
       "      <td>2020-07-10</td>\n",
       "      <td>0.853304</td>\n",
       "      <td>0.939629</td>\n",
       "      <td>0.842850</td>\n",
       "      <td>0.913560</td>\n",
       "      <td>0.913560</td>\n",
       "      <td>1856095</td>\n",
       "      <td>2020</td>\n",
       "      <td>7</td>\n",
       "      <td>10</td>\n",
       "    </tr>\n",
       "    <tr>\n",
       "      <th>542</th>\n",
       "      <td>2021-10-04</td>\n",
       "      <td>172.961624</td>\n",
       "      <td>172.961624</td>\n",
       "      <td>162.773331</td>\n",
       "      <td>166.731918</td>\n",
       "      <td>166.731918</td>\n",
       "      <td>3109040100</td>\n",
       "      <td>2021</td>\n",
       "      <td>10</td>\n",
       "      <td>4</td>\n",
       "    </tr>\n",
       "  </tbody>\n",
       "</table>\n",
       "</div>"
      ],
      "text/plain": [
       "            Date        Open        High         Low       Close   Adj Close  \\\n",
       "872   2022-08-30   32.460041   33.072636   30.796524   31.412056   31.412056   \n",
       "1055  2023-03-01   21.912136   22.795338   21.738678   22.506432   22.506432   \n",
       "288   2021-01-23    3.341035    3.597302    3.315762    3.504112    3.504112   \n",
       "91    2020-07-10    0.853304    0.939629    0.842850    0.913560    0.913560   \n",
       "542   2021-10-04  172.961624  172.961624  162.773331  166.731918  166.731918   \n",
       "\n",
       "          Volume  Year  Month  Day  \n",
       "872    861409804  2022      8   30  \n",
       "1055   346532018  2023      3    1  \n",
       "288     27904470  2021      1   23  \n",
       "91       1856095  2020      7   10  \n",
       "542   3109040100  2021     10    4  "
      ]
     },
     "execution_count": 5,
     "metadata": {},
     "output_type": "execute_result"
    }
   ],
   "source": [
    "data.sample(5)"
   ]
  },
  {
   "cell_type": "code",
   "execution_count": 6,
   "metadata": {},
   "outputs": [],
   "source": [
    "data['Date']=pd.to_datetime(data['Date'])"
   ]
  },
  {
   "cell_type": "code",
   "execution_count": 7,
   "metadata": {},
   "outputs": [],
   "source": [
    "# prev_score give us the difference between the highest price and the lowest price\n",
    "data['Prev_close'] = data['Close'].shift(1)\n",
    "data.dropna(axis=0,inplace=True)\n",
    "# delta_hl give us the difference between the highest and the actual close\n",
    "data['delta_hl'] = data['High'] - data['Low']"
   ]
  },
  {
   "cell_type": "code",
   "execution_count": 8,
   "metadata": {},
   "outputs": [
    {
     "name": "stderr",
     "output_type": "stream",
     "text": [
      "C:\\Users\\DELL\\AppData\\Local\\Temp\\ipykernel_4844\\1666691955.py:1: FutureWarning: The pandas.datetime class is deprecated and will be removed from pandas in a future version. Import from datetime module instead.\n",
      "  train = data[data['Date'] <= pd.datetime(2022,12,31,23,59)]\n",
      "C:\\Users\\DELL\\AppData\\Local\\Temp\\ipykernel_4844\\1666691955.py:2: FutureWarning: The pandas.datetime class is deprecated and will be removed from pandas in a future version. Import from datetime module instead.\n",
      "  test = data[data['Date'] >= pd.datetime(2022,12,31,23,59)]\n"
     ]
    }
   ],
   "source": [
    "train = data[data['Date'] <= pd.datetime(2022,12,31,23,59)]\n",
    "test = data[data['Date'] >= pd.datetime(2022,12,31,23,59)]"
   ]
  },
  {
   "attachments": {},
   "cell_type": "markdown",
   "metadata": {},
   "source": [
    "### Visualisation"
   ]
  },
  {
   "cell_type": "code",
   "execution_count": 9,
   "metadata": {},
   "outputs": [
    {
     "data": {
      "image/png": "[encoded data removed]",
      "text/plain": [
       "<Figure size 640x480 with 1 Axes>"
      ]
     },
     "metadata": {},
     "output_type": "display_data"
    }
   ],
   "source": [
    "sns.lineplot(data,x='Date',y='Open')\n",
    "plt.xticks(rotation = 50)\n",
    "plt.show()      "
   ]
  },
  {
   "cell_type": "code",
   "execution_count": 10,
   "metadata": {},
   "outputs": [
    {
     "data": {
      "image/png": "[encoded data removed]",
      "text/plain": [
       "<Figure size 640x480 with 1 Axes>"
      ]
     },
     "metadata": {},
     "output_type": "display_data"
    }
   ],
   "source": [
    "sns.lineplot(data,x='Date',y='Close')\n",
    "sns.lineplot(data,x='Date',y='High')\n",
    "sns.lineplot(data,x='Date',y='Low')\n",
    "plt.xticks(rotation = 50)\n",
    "plt.show()      "
   ]
  },
  {
   "cell_type": "code",
   "execution_count": 11,
   "metadata": {},
   "outputs": [],
   "source": [
    "true_test = test['Close']"
   ]
  },
  {
   "cell_type": "code",
   "execution_count": 12,
   "metadata": {},
   "outputs": [
    {
     "name": "stderr",
     "output_type": "stream",
     "text": [
      "C:\\Users\\DELL\\AppData\\Local\\Temp\\ipykernel_4844\\565370736.py:1: SettingWithCopyWarning: \n",
      "A value is trying to be set on a copy of a slice from a DataFrame\n",
      "\n",
      "See the caveats in the documentation: https://pandas.pydata.org/pandas-docs/stable/user_guide/indexing.html#returning-a-view-versus-a-copy\n",
      "  train.drop('Date',axis=1,inplace=True)\n",
      "C:\\Users\\DELL\\AppData\\Local\\Temp\\ipykernel_4844\\565370736.py:2: SettingWithCopyWarning: \n",
      "A value is trying to be set on a copy of a slice from a DataFrame\n",
      "\n",
      "See the caveats in the documentation: https://pandas.pydata.org/pandas-docs/stable/user_guide/indexing.html#returning-a-view-versus-a-copy\n",
      "  test.drop('Date',axis=1,inplace=True)\n"
     ]
    }
   ],
   "source": [
    "train.drop('Date',axis=1,inplace=True)\n",
    "test.drop('Date',axis=1,inplace=True)"
   ]
  },
  {
   "attachments": {},
   "cell_type": "markdown",
   "metadata": {},
   "source": [
    "### Model"
   ]
  },
  {
   "cell_type": "code",
   "execution_count": 13,
   "metadata": {},
   "outputs": [],
   "source": [
    "import xgboost as xgb\n",
    "from sklearn.model_selection import train_test_split\n",
    "from sklearn.metrics import mean_squared_error as MSE\n",
    "from sklearn import metrics"
   ]
  },
  {
   "cell_type": "code",
   "execution_count": 14,
   "metadata": {},
   "outputs": [
    {
     "name": "stdout",
     "output_type": "stream",
     "text": [
      "RMSE :  2.663965\n",
      "R squared:  0.9978645064989152\n"
     ]
    }
   ],
   "source": [
    "y=train['Close']\n",
    "x=train.drop('Close',axis=1,inplace=False)\n",
    "train_X, test_X, train_y, test_y = train_test_split(x, y,test_size = 0.3, random_state = 40)\n",
    "xgb_r = xgb.XGBRegressor(objective ='reg:squarederror',n_estimators = 10, seed = 123)\n",
    "xgb_r.fit(train_X, train_y)\n",
    "pred = xgb_r.predict(test_X)\n",
    "rmse = np.sqrt(MSE(test_y, pred))\n",
    "print(\"RMSE : % f\" %(rmse))\n",
    "print(\"R squared: \", metrics.r2_score(test_y,pred))"
   ]
  },
  {
   "cell_type": "code",
   "execution_count": 15,
   "metadata": {},
   "outputs": [],
   "source": [
    "tst = test.drop('Close',axis=1,inplace=False)\n",
    "tst=tst.to_numpy()"
   ]
  },
  {
   "cell_type": "code",
   "execution_count": 16,
   "metadata": {},
   "outputs": [
    {
     "name": "stdout",
     "output_type": "stream",
     "text": [
      "RMSE :  1.911361\n",
      "R squared:  0.5461454681001239\n"
     ]
    }
   ],
   "source": [
    "pred=xgb_r.predict(tst)\n",
    "rmse = np.sqrt(MSE(true_test, pred))\n",
    "print(\"RMSE : % f\" %(rmse))\n",
    "print(\"R squared: \", metrics.r2_score(true_test,pred)) "
   ]
  },
  {
   "attachments": {},
   "cell_type": "markdown",
   "metadata": {},
   "source": [
    "### Optimisation"
   ]
  },
  {
   "cell_type": "code",
   "execution_count": 17,
   "metadata": {},
   "outputs": [
    {
     "data": {
      "text/plain": [
       "141"
      ]
     },
     "execution_count": 17,
     "metadata": {},
     "output_type": "execute_result"
    }
   ],
   "source": [
    "def accuracy(k):    \n",
    "    train_X, test_X, train_y, test_y = train_test_split(x, y,test_size = 0.3, random_state = k)\n",
    "    xgb_r = xgb.XGBRegressor(objective ='reg:tweedie',n_estimators = 40, seed = 0)\n",
    "    xgb_r.fit(train_X, train_y)\n",
    "    pred = xgb_r.predict(test_X)\n",
    "    rmse = np.sqrt(MSE(test_y, pred))\n",
    "    return rmse\n",
    "def best_rd(x):\n",
    "    d=[]\n",
    "    for i in range(0,x+1):\n",
    "        d.append(accuracy(i))\n",
    "    return d\n",
    "c =best_rd(200)\n",
    "m=c.index(min(c))\n",
    "m"
   ]
  },
  {
   "cell_type": "code",
   "execution_count": 18,
   "metadata": {},
   "outputs": [
    {
     "data": {
      "text/plain": [
       "35"
      ]
     },
     "execution_count": 18,
     "metadata": {},
     "output_type": "execute_result"
    }
   ],
   "source": [
    "def accuracy(k):    \n",
    "    train_X, test_X, train_y, test_y = train_test_split(x, y,test_size = 0.3, random_state = 141)\n",
    "    xgb_r = xgb.XGBRegressor(objective ='reg:tweedie',n_estimators = k, seed = 0)\n",
    "    xgb_r.fit(train_X, train_y)\n",
    "    pred = xgb_r.predict(test_X)\n",
    "    rmse = np.sqrt(MSE(test_y, pred))\n",
    "    return rmse\n",
    "def best_rd(x):\n",
    "    d=[]\n",
    "    for i in range(0,x+1):\n",
    "        d.append(accuracy(i))\n",
    "    return d\n",
    "c =best_rd(100)\n",
    "m=c.index(min(c))\n",
    "m"
   ]
  },
  {
   "attachments": {},
   "cell_type": "markdown",
   "metadata": {},
   "source": [
    "### Score and Evaluation"
   ]
  },
  {
   "cell_type": "code",
   "execution_count": 21,
   "metadata": {},
   "outputs": [
    {
     "name": "stdout",
     "output_type": "stream",
     "text": [
      "RMSE :  0.804165\n",
      "R squared:  0.9998163864303009\n"
     ]
    }
   ],
   "source": [
    "y=train['Close']\n",
    "x=train.drop('Close',axis=1,inplace=False)\n",
    "train_X, test_X, train_y, test_y = train_test_split(x, y,test_size = 0.3, random_state = 141)\n",
    "xgb_r = xgb.XGBRegressor(objective ='reg:tweedie',n_estimators = 35, seed = 0)\n",
    "xgb_r.fit(train_X, train_y)\n",
    "pred = xgb_r.predict(test_X)\n",
    "rmse = np.sqrt(MSE(test_y, pred))\n",
    "print(\"RMSE : % f\" %(rmse))\n",
    "print(\"R squared: \", metrics.r2_score(test_y,pred))"
   ]
  },
  {
   "cell_type": "code",
   "execution_count": 22,
   "metadata": {},
   "outputs": [
    {
     "name": "stdout",
     "output_type": "stream",
     "text": [
      "RMSE :  1.035343\n",
      "R squared:  0.8668320002695041\n"
     ]
    }
   ],
   "source": [
    "pred=xgb_r.predict(tst)\n",
    "rmse = np.sqrt(MSE(true_test, pred))\n",
    "print(\"RMSE : % f\" %(rmse))\n",
    "print(\"R squared: \", metrics.r2_score(true_test,pred)) "
   ]
  },
  {
   "cell_type": "code",
   "execution_count": 23,
   "metadata": {},
   "outputs": [],
   "source": [
    "comparaison = pd.DataFrame()\n",
    "x = true_test.values"
   ]
  },
  {
   "cell_type": "code",
   "execution_count": 24,
   "metadata": {},
   "outputs": [],
   "source": [
    "comparaison['Predictions'] = pred\n",
    "comparaison['True_test'] = x"
   ]
  },
  {
   "cell_type": "code",
   "execution_count": 25,
   "metadata": {},
   "outputs": [
    {
     "data": {
      "text/html": [
       "<div>\n",
       "<style scoped>\n",
       "    .dataframe tbody tr th:only-of-type {\n",
       "        vertical-align: middle;\n",
       "    }\n",
       "\n",
       "    .dataframe tbody tr th {\n",
       "        vertical-align: top;\n",
       "    }\n",
       "\n",
       "    .dataframe thead th {\n",
       "        text-align: right;\n",
       "    }\n",
       "</style>\n",
       "<table border=\"1\" class=\"dataframe\">\n",
       "  <thead>\n",
       "    <tr style=\"text-align: right;\">\n",
       "      <th></th>\n",
       "      <th>Predictions</th>\n",
       "      <th>True_test</th>\n",
       "    </tr>\n",
       "  </thead>\n",
       "  <tbody>\n",
       "    <tr>\n",
       "      <th>0</th>\n",
       "      <td>10.135611</td>\n",
       "      <td>9.982173</td>\n",
       "    </tr>\n",
       "    <tr>\n",
       "      <th>1</th>\n",
       "      <td>11.671333</td>\n",
       "      <td>11.272967</td>\n",
       "    </tr>\n",
       "    <tr>\n",
       "      <th>2</th>\n",
       "      <td>13.444593</td>\n",
       "      <td>13.344046</td>\n",
       "    </tr>\n",
       "    <tr>\n",
       "      <th>3</th>\n",
       "      <td>13.649912</td>\n",
       "      <td>13.435113</td>\n",
       "    </tr>\n",
       "    <tr>\n",
       "      <th>4</th>\n",
       "      <td>13.625743</td>\n",
       "      <td>13.419330</td>\n",
       "    </tr>\n",
       "    <tr>\n",
       "      <th>...</th>\n",
       "      <td>...</td>\n",
       "      <td>...</td>\n",
       "    </tr>\n",
       "    <tr>\n",
       "      <th>143</th>\n",
       "      <td>19.109608</td>\n",
       "      <td>19.223663</td>\n",
       "    </tr>\n",
       "    <tr>\n",
       "      <th>144</th>\n",
       "      <td>19.141953</td>\n",
       "      <td>19.260662</td>\n",
       "    </tr>\n",
       "    <tr>\n",
       "      <th>145</th>\n",
       "      <td>21.369129</td>\n",
       "      <td>19.366957</td>\n",
       "    </tr>\n",
       "    <tr>\n",
       "      <th>146</th>\n",
       "      <td>21.415232</td>\n",
       "      <td>20.425234</td>\n",
       "    </tr>\n",
       "    <tr>\n",
       "      <th>147</th>\n",
       "      <td>21.809294</td>\n",
       "      <td>20.487476</td>\n",
       "    </tr>\n",
       "  </tbody>\n",
       "</table>\n",
       "<p>148 rows × 2 columns</p>\n",
       "</div>"
      ],
      "text/plain": [
       "     Predictions  True_test\n",
       "0      10.135611   9.982173\n",
       "1      11.671333  11.272967\n",
       "2      13.444593  13.344046\n",
       "3      13.649912  13.435113\n",
       "4      13.625743  13.419330\n",
       "..           ...        ...\n",
       "143    19.109608  19.223663\n",
       "144    19.141953  19.260662\n",
       "145    21.369129  19.366957\n",
       "146    21.415232  20.425234\n",
       "147    21.809294  20.487476\n",
       "\n",
       "[148 rows x 2 columns]"
      ]
     },
     "execution_count": 25,
     "metadata": {},
     "output_type": "execute_result"
    }
   ],
   "source": [
    "comparaison"
   ]
  },
  {
   "cell_type": "code",
   "execution_count": 26,
   "metadata": {},
   "outputs": [
    {
     "data": {
      "text/plain": [
       "<Axes: xlabel='Predictions', ylabel='True_test'>"
      ]
     },
     "execution_count": 26,
     "metadata": {},
     "output_type": "execute_result"
    },
    {
     "data": {
      "image/png": "[encoded data removed]",
      "text/plain": [
       "<Figure size 640x480 with 1 Axes>"
      ]
     },
     "metadata": {},
     "output_type": "display_data"
    }
   ],
   "source": [
    "sns.lineplot(comparaison,x='Predictions',y='True_test')"
   ]
  },
  {
   "cell_type": "code",
   "execution_count": 27,
   "metadata": {},
   "outputs": [],
   "source": [
    "import pickle\n",
    "with open('sol_regressor','wb') as f:\n",
    "    pickle.dump(xgb_r,f)"
   ]
  }
 ],
 "metadata": {
  "kernelspec": {
   "display_name": "Python 3",
   "language": "python",
   "name": "python3"
  },
  "language_info": {
   "codemirror_mode": {
    "name": "ipython",
    "version": 3
   },
   "file_extension": ".py",
   "mimetype": "text/x-python",
   "name": "python",
   "nbconvert_exporter": "python",
   "pygments_lexer": "ipython3",
   "version": "3.10.11"
  },
  "orig_nbformat": 4
 },
 "nbformat": 4,
 "nbformat_minor": 2
}
