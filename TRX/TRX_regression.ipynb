{
 "cells": [
  {
   "attachments": {},
   "cell_type": "markdown",
   "metadata": {},
   "source": [
    "# TRX price prediction"
   ]
  },
  {
   "cell_type": "code",
   "execution_count": 1,
   "metadata": {},
   "outputs": [],
   "source": [
    "import pandas as pd\n",
    "import numpy as np \n",
    "import matplotlib.pyplot as plt\n",
    "import seaborn as sns"
   ]
  },
  {
   "cell_type": "code",
   "execution_count": 2,
   "metadata": {},
   "outputs": [],
   "source": [
    "data = pd.read_csv('TRX-USD.csv')"
   ]
  },
  {
   "cell_type": "code",
   "execution_count": 3,
   "metadata": {},
   "outputs": [
    {
     "data": {
      "text/html": [
       "<div>\n",
       "<style scoped>\n",
       "    .dataframe tbody tr th:only-of-type {\n",
       "        vertical-align: middle;\n",
       "    }\n",
       "\n",
       "    .dataframe tbody tr th {\n",
       "        vertical-align: top;\n",
       "    }\n",
       "\n",
       "    .dataframe thead th {\n",
       "        text-align: right;\n",
       "    }\n",
       "</style>\n",
       "<table border=\"1\" class=\"dataframe\">\n",
       "  <thead>\n",
       "    <tr style=\"text-align: right;\">\n",
       "      <th></th>\n",
       "      <th>Date</th>\n",
       "      <th>Open</th>\n",
       "      <th>High</th>\n",
       "      <th>Low</th>\n",
       "      <th>Close</th>\n",
       "      <th>Adj Close</th>\n",
       "      <th>Volume</th>\n",
       "    </tr>\n",
       "  </thead>\n",
       "  <tbody>\n",
       "    <tr>\n",
       "      <th>0</th>\n",
       "      <td>2020-01-01</td>\n",
       "      <td>0.013294</td>\n",
       "      <td>0.013388</td>\n",
       "      <td>0.013193</td>\n",
       "      <td>0.013250</td>\n",
       "      <td>0.013250</td>\n",
       "      <td>977215885</td>\n",
       "    </tr>\n",
       "    <tr>\n",
       "      <th>1</th>\n",
       "      <td>2020-01-02</td>\n",
       "      <td>0.013254</td>\n",
       "      <td>0.013254</td>\n",
       "      <td>0.012809</td>\n",
       "      <td>0.012870</td>\n",
       "      <td>0.012870</td>\n",
       "      <td>999867628</td>\n",
       "    </tr>\n",
       "    <tr>\n",
       "      <th>2</th>\n",
       "      <td>2020-01-03</td>\n",
       "      <td>0.012887</td>\n",
       "      <td>0.013524</td>\n",
       "      <td>0.012772</td>\n",
       "      <td>0.013435</td>\n",
       "      <td>0.013435</td>\n",
       "      <td>1109470187</td>\n",
       "    </tr>\n",
       "    <tr>\n",
       "      <th>3</th>\n",
       "      <td>2020-01-04</td>\n",
       "      <td>0.013450</td>\n",
       "      <td>0.013534</td>\n",
       "      <td>0.013310</td>\n",
       "      <td>0.013521</td>\n",
       "      <td>0.013521</td>\n",
       "      <td>991868126</td>\n",
       "    </tr>\n",
       "    <tr>\n",
       "      <th>4</th>\n",
       "      <td>2020-01-05</td>\n",
       "      <td>0.013531</td>\n",
       "      <td>0.013913</td>\n",
       "      <td>0.013522</td>\n",
       "      <td>0.013623</td>\n",
       "      <td>0.013623</td>\n",
       "      <td>1079591214</td>\n",
       "    </tr>\n",
       "  </tbody>\n",
       "</table>\n",
       "</div>"
      ],
      "text/plain": [
       "         Date      Open      High       Low     Close  Adj Close      Volume\n",
       "0  2020-01-01  0.013294  0.013388  0.013193  0.013250   0.013250   977215885\n",
       "1  2020-01-02  0.013254  0.013254  0.012809  0.012870   0.012870   999867628\n",
       "2  2020-01-03  0.012887  0.013524  0.012772  0.013435   0.013435  1109470187\n",
       "3  2020-01-04  0.013450  0.013534  0.013310  0.013521   0.013521   991868126\n",
       "4  2020-01-05  0.013531  0.013913  0.013522  0.013623   0.013623  1079591214"
      ]
     },
     "execution_count": 3,
     "metadata": {},
     "output_type": "execute_result"
    }
   ],
   "source": [
    "data.head(5)"
   ]
  },
  {
   "attachments": {},
   "cell_type": "markdown",
   "metadata": {},
   "source": [
    "### Adding features"
   ]
  },
  {
   "cell_type": "code",
   "execution_count": 4,
   "metadata": {},
   "outputs": [],
   "source": [
    "year = []\n",
    "month=[]\n",
    "day=[]\n",
    "for i in data['Date'].values:\n",
    "    x = i.split('-')\n",
    "    year.append(int(x[0]))\n",
    "    month.append(int(x[1]))\n",
    "    day.append(int(x[2]))\n",
    "data['Year'] = year\n",
    "data['Month'] = month\n",
    "data['Day'] = day"
   ]
  },
  {
   "cell_type": "code",
   "execution_count": 5,
   "metadata": {},
   "outputs": [
    {
     "data": {
      "text/html": [
       "<div>\n",
       "<style scoped>\n",
       "    .dataframe tbody tr th:only-of-type {\n",
       "        vertical-align: middle;\n",
       "    }\n",
       "\n",
       "    .dataframe tbody tr th {\n",
       "        vertical-align: top;\n",
       "    }\n",
       "\n",
       "    .dataframe thead th {\n",
       "        text-align: right;\n",
       "    }\n",
       "</style>\n",
       "<table border=\"1\" class=\"dataframe\">\n",
       "  <thead>\n",
       "    <tr style=\"text-align: right;\">\n",
       "      <th></th>\n",
       "      <th>Date</th>\n",
       "      <th>Open</th>\n",
       "      <th>High</th>\n",
       "      <th>Low</th>\n",
       "      <th>Close</th>\n",
       "      <th>Adj Close</th>\n",
       "      <th>Volume</th>\n",
       "      <th>Year</th>\n",
       "      <th>Month</th>\n",
       "      <th>Day</th>\n",
       "    </tr>\n",
       "  </thead>\n",
       "  <tbody>\n",
       "    <tr>\n",
       "      <th>351</th>\n",
       "      <td>2020-12-17</td>\n",
       "      <td>0.031191</td>\n",
       "      <td>0.032363</td>\n",
       "      <td>0.030486</td>\n",
       "      <td>0.030708</td>\n",
       "      <td>0.030708</td>\n",
       "      <td>1226706409</td>\n",
       "      <td>2020</td>\n",
       "      <td>12</td>\n",
       "      <td>17</td>\n",
       "    </tr>\n",
       "    <tr>\n",
       "      <th>644</th>\n",
       "      <td>2021-10-06</td>\n",
       "      <td>0.096220</td>\n",
       "      <td>0.096971</td>\n",
       "      <td>0.091276</td>\n",
       "      <td>0.095521</td>\n",
       "      <td>0.095521</td>\n",
       "      <td>1713306308</td>\n",
       "      <td>2021</td>\n",
       "      <td>10</td>\n",
       "      <td>6</td>\n",
       "    </tr>\n",
       "    <tr>\n",
       "      <th>1087</th>\n",
       "      <td>2022-12-23</td>\n",
       "      <td>0.055554</td>\n",
       "      <td>0.055676</td>\n",
       "      <td>0.054190</td>\n",
       "      <td>0.054236</td>\n",
       "      <td>0.054236</td>\n",
       "      <td>149471811</td>\n",
       "      <td>2022</td>\n",
       "      <td>12</td>\n",
       "      <td>23</td>\n",
       "    </tr>\n",
       "    <tr>\n",
       "      <th>854</th>\n",
       "      <td>2022-05-04</td>\n",
       "      <td>0.072351</td>\n",
       "      <td>0.086252</td>\n",
       "      <td>0.070226</td>\n",
       "      <td>0.086249</td>\n",
       "      <td>0.086249</td>\n",
       "      <td>2980152527</td>\n",
       "      <td>2022</td>\n",
       "      <td>5</td>\n",
       "      <td>4</td>\n",
       "    </tr>\n",
       "    <tr>\n",
       "      <th>125</th>\n",
       "      <td>2020-05-05</td>\n",
       "      <td>0.016307</td>\n",
       "      <td>0.016627</td>\n",
       "      <td>0.015797</td>\n",
       "      <td>0.015902</td>\n",
       "      <td>0.015902</td>\n",
       "      <td>1797335086</td>\n",
       "      <td>2020</td>\n",
       "      <td>5</td>\n",
       "      <td>5</td>\n",
       "    </tr>\n",
       "  </tbody>\n",
       "</table>\n",
       "</div>"
      ],
      "text/plain": [
       "            Date      Open      High       Low     Close  Adj Close  \\\n",
       "351   2020-12-17  0.031191  0.032363  0.030486  0.030708   0.030708   \n",
       "644   2021-10-06  0.096220  0.096971  0.091276  0.095521   0.095521   \n",
       "1087  2022-12-23  0.055554  0.055676  0.054190  0.054236   0.054236   \n",
       "854   2022-05-04  0.072351  0.086252  0.070226  0.086249   0.086249   \n",
       "125   2020-05-05  0.016307  0.016627  0.015797  0.015902   0.015902   \n",
       "\n",
       "          Volume  Year  Month  Day  \n",
       "351   1226706409  2020     12   17  \n",
       "644   1713306308  2021     10    6  \n",
       "1087   149471811  2022     12   23  \n",
       "854   2980152527  2022      5    4  \n",
       "125   1797335086  2020      5    5  "
      ]
     },
     "execution_count": 5,
     "metadata": {},
     "output_type": "execute_result"
    }
   ],
   "source": [
    "data.sample(5)"
   ]
  },
  {
   "cell_type": "code",
   "execution_count": 6,
   "metadata": {},
   "outputs": [],
   "source": [
    "data['Date']=pd.to_datetime(data['Date'])"
   ]
  },
  {
   "cell_type": "code",
   "execution_count": 7,
   "metadata": {},
   "outputs": [],
   "source": [
    "# prev_score give us the difference between the highest price and the lowest price\n",
    "data['Prev_close'] = data['Close'].shift(1)\n",
    "data.dropna(axis=0,inplace=True)\n",
    "# delta_hl give us the difference between the highest and the actual close\n",
    "data['delta_hl'] = data['High'] - data['Low']"
   ]
  },
  {
   "cell_type": "code",
   "execution_count": 8,
   "metadata": {},
   "outputs": [
    {
     "name": "stderr",
     "output_type": "stream",
     "text": [
      "C:\\Users\\DELL\\AppData\\Local\\Temp\\ipykernel_16124\\1666691955.py:1: FutureWarning: The pandas.datetime class is deprecated and will be removed from pandas in a future version. Import from datetime module instead.\n",
      "  train = data[data['Date'] <= pd.datetime(2022,12,31,23,59)]\n",
      "C:\\Users\\DELL\\AppData\\Local\\Temp\\ipykernel_16124\\1666691955.py:2: FutureWarning: The pandas.datetime class is deprecated and will be removed from pandas in a future version. Import from datetime module instead.\n",
      "  test = data[data['Date'] >= pd.datetime(2022,12,31,23,59)]\n"
     ]
    }
   ],
   "source": [
    "train = data[data['Date'] <= pd.datetime(2022,12,31,23,59)]\n",
    "test = data[data['Date'] >= pd.datetime(2022,12,31,23,59)]"
   ]
  },
  {
   "attachments": {},
   "cell_type": "markdown",
   "metadata": {},
   "source": [
    "### Visualisation"
   ]
  },
  {
   "cell_type": "code",
   "execution_count": 9,
   "metadata": {},
   "outputs": [
    {
     "data": {
      "image/png": "[encoded data removed]",
      "text/plain": [
       "<Figure size 640x480 with 1 Axes>"
      ]
     },
     "metadata": {},
     "output_type": "display_data"
    }
   ],
   "source": [
    "sns.lineplot(data,x='Date',y='Open')\n",
    "plt.xticks(rotation = 50)\n",
    "plt.show()      "
   ]
  },
  {
   "cell_type": "code",
   "execution_count": 10,
   "metadata": {},
   "outputs": [
    {
     "data": {
      "image/png": "[encoded data removed]",
      "text/plain": [
       "<Figure size 640x480 with 1 Axes>"
      ]
     },
     "metadata": {},
     "output_type": "display_data"
    }
   ],
   "source": [
    "sns.lineplot(data,x='Date',y='Close')\n",
    "sns.lineplot(data,x='Date',y='High')\n",
    "sns.lineplot(data,x='Date',y='Low')\n",
    "plt.xticks(rotation = 50)\n",
    "plt.show()      "
   ]
  },
  {
   "cell_type": "code",
   "execution_count": 11,
   "metadata": {},
   "outputs": [],
   "source": [
    "true_test = test['Close']"
   ]
  },
  {
   "cell_type": "code",
   "execution_count": 12,
   "metadata": {},
   "outputs": [
    {
     "name": "stderr",
     "output_type": "stream",
     "text": [
      "C:\\Users\\DELL\\AppData\\Local\\Temp\\ipykernel_16124\\565370736.py:1: SettingWithCopyWarning: \n",
      "A value is trying to be set on a copy of a slice from a DataFrame\n",
      "\n",
      "See the caveats in the documentation: https://pandas.pydata.org/pandas-docs/stable/user_guide/indexing.html#returning-a-view-versus-a-copy\n",
      "  train.drop('Date',axis=1,inplace=True)\n",
      "C:\\Users\\DELL\\AppData\\Local\\Temp\\ipykernel_16124\\565370736.py:2: SettingWithCopyWarning: \n",
      "A value is trying to be set on a copy of a slice from a DataFrame\n",
      "\n",
      "See the caveats in the documentation: https://pandas.pydata.org/pandas-docs/stable/user_guide/indexing.html#returning-a-view-versus-a-copy\n",
      "  test.drop('Date',axis=1,inplace=True)\n"
     ]
    }
   ],
   "source": [
    "train.drop('Date',axis=1,inplace=True)\n",
    "test.drop('Date',axis=1,inplace=True)"
   ]
  },
  {
   "attachments": {},
   "cell_type": "markdown",
   "metadata": {},
   "source": [
    "### Model"
   ]
  },
  {
   "cell_type": "code",
   "execution_count": 13,
   "metadata": {},
   "outputs": [],
   "source": [
    "import xgboost as xgb\n",
    "from sklearn.model_selection import train_test_split\n",
    "from sklearn.metrics import mean_squared_error as MSE\n",
    "from sklearn import metrics"
   ]
  },
  {
   "cell_type": "code",
   "execution_count": 14,
   "metadata": {},
   "outputs": [
    {
     "name": "stdout",
     "output_type": "stream",
     "text": [
      "RMSE :  0.013366\n",
      "R squared:  0.8176439292708289\n"
     ]
    }
   ],
   "source": [
    "y=train['Close']\n",
    "x=train.drop('Close',axis=1,inplace=False)\n",
    "train_X, test_X, train_y, test_y = train_test_split(x, y,test_size = 0.3, random_state = 40)\n",
    "xgb_r = xgb.XGBRegressor(objective ='reg:squarederror',n_estimators = 10, seed = 123)\n",
    "xgb_r.fit(train_X, train_y)\n",
    "pred = xgb_r.predict(test_X)\n",
    "rmse = np.sqrt(MSE(test_y, pred))\n",
    "print(\"RMSE : % f\" %(rmse))\n",
    "print(\"R squared: \", metrics.r2_score(test_y,pred))"
   ]
  },
  {
   "cell_type": "code",
   "execution_count": 15,
   "metadata": {},
   "outputs": [],
   "source": [
    "tst = test.drop('Close',axis=1,inplace=False)\n",
    "tst=tst.to_numpy()"
   ]
  },
  {
   "cell_type": "code",
   "execution_count": 16,
   "metadata": {},
   "outputs": [
    {
     "name": "stdout",
     "output_type": "stream",
     "text": [
      "RMSE :  0.012659\n",
      "R squared:  -5.323253599891553\n"
     ]
    }
   ],
   "source": [
    "pred=xgb_r.predict(tst)\n",
    "rmse = np.sqrt(MSE(true_test, pred))\n",
    "print(\"RMSE : % f\" %(rmse))\n",
    "print(\"R squared: \", metrics.r2_score(true_test,pred)) "
   ]
  },
  {
   "attachments": {},
   "cell_type": "markdown",
   "metadata": {},
   "source": [
    "### Optimisation"
   ]
  },
  {
   "cell_type": "code",
   "execution_count": 17,
   "metadata": {},
   "outputs": [
    {
     "data": {
      "text/plain": [
       "94"
      ]
     },
     "execution_count": 17,
     "metadata": {},
     "output_type": "execute_result"
    }
   ],
   "source": [
    "def accuracy(k):    \n",
    "    train_X, test_X, train_y, test_y = train_test_split(x, y,test_size = 0.3, random_state = k)\n",
    "    xgb_r = xgb.XGBRegressor(objective ='reg:tweedie',n_estimators = 40, seed = 0)\n",
    "    xgb_r.fit(train_X, train_y)\n",
    "    pred = xgb_r.predict(test_X)\n",
    "    rmse = np.sqrt(MSE(test_y, pred))\n",
    "    return rmse\n",
    "def best_rd(x):\n",
    "    d=[]\n",
    "    for i in range(0,x+1):\n",
    "        d.append(accuracy(i))\n",
    "    return d\n",
    "c =best_rd(200)\n",
    "m=c.index(min(c))\n",
    "m"
   ]
  },
  {
   "cell_type": "code",
   "execution_count": 18,
   "metadata": {},
   "outputs": [
    {
     "data": {
      "text/plain": [
       "97"
      ]
     },
     "execution_count": 18,
     "metadata": {},
     "output_type": "execute_result"
    }
   ],
   "source": [
    "def accuracy(k):    \n",
    "    train_X, test_X, train_y, test_y = train_test_split(x, y,test_size = 0.3, random_state = 94)\n",
    "    xgb_r = xgb.XGBRegressor(objective ='reg:tweedie',n_estimators = k, seed = 0)\n",
    "    xgb_r.fit(train_X, train_y)\n",
    "    pred = xgb_r.predict(test_X)\n",
    "    rmse = np.sqrt(MSE(test_y, pred))\n",
    "    return rmse\n",
    "def best_rd(x):\n",
    "    d=[]\n",
    "    for i in range(0,x+1):\n",
    "        d.append(accuracy(i))\n",
    "    return d\n",
    "c =best_rd(100)\n",
    "m=c.index(min(c))\n",
    "m"
   ]
  },
  {
   "attachments": {},
   "cell_type": "markdown",
   "metadata": {},
   "source": [
    "### Score and Evaluation"
   ]
  },
  {
   "cell_type": "code",
   "execution_count": 19,
   "metadata": {},
   "outputs": [
    {
     "name": "stdout",
     "output_type": "stream",
     "text": [
      "RMSE :  0.000602\n",
      "R squared:  0.9995666119958929\n"
     ]
    }
   ],
   "source": [
    "y=train['Close']\n",
    "x=train.drop('Close',axis=1,inplace=False)\n",
    "train_X, test_X, train_y, test_y = train_test_split(x, y,test_size = 0.3, random_state = 94)\n",
    "xgb_r = xgb.XGBRegressor(objective ='reg:tweedie',n_estimators = 97, seed = 0)\n",
    "xgb_r.fit(train_X, train_y)\n",
    "pred = xgb_r.predict(test_X)\n",
    "rmse = np.sqrt(MSE(test_y, pred))\n",
    "print(\"RMSE : % f\" %(rmse))\n",
    "print(\"R squared: \", metrics.r2_score(test_y,pred))"
   ]
  },
  {
   "cell_type": "code",
   "execution_count": 20,
   "metadata": {},
   "outputs": [
    {
     "name": "stdout",
     "output_type": "stream",
     "text": [
      "RMSE :  0.000484\n",
      "R squared:  0.9907716499679935\n"
     ]
    }
   ],
   "source": [
    "pred=xgb_r.predict(tst)\n",
    "rmse = np.sqrt(MSE(true_test, pred))\n",
    "print(\"RMSE : % f\" %(rmse))\n",
    "print(\"R squared: \", metrics.r2_score(true_test,pred)) "
   ]
  },
  {
   "cell_type": "code",
   "execution_count": 21,
   "metadata": {},
   "outputs": [],
   "source": [
    "comparaison = pd.DataFrame()\n",
    "x = true_test.values"
   ]
  },
  {
   "cell_type": "code",
   "execution_count": 22,
   "metadata": {},
   "outputs": [],
   "source": [
    "comparaison['Predictions'] = pred\n",
    "comparaison['True_test'] = x"
   ]
  },
  {
   "cell_type": "code",
   "execution_count": 23,
   "metadata": {},
   "outputs": [
    {
     "data": {
      "text/html": [
       "<div>\n",
       "<style scoped>\n",
       "    .dataframe tbody tr th:only-of-type {\n",
       "        vertical-align: middle;\n",
       "    }\n",
       "\n",
       "    .dataframe tbody tr th {\n",
       "        vertical-align: top;\n",
       "    }\n",
       "\n",
       "    .dataframe thead th {\n",
       "        text-align: right;\n",
       "    }\n",
       "</style>\n",
       "<table border=\"1\" class=\"dataframe\">\n",
       "  <thead>\n",
       "    <tr style=\"text-align: right;\">\n",
       "      <th></th>\n",
       "      <th>Predictions</th>\n",
       "      <th>True_test</th>\n",
       "    </tr>\n",
       "  </thead>\n",
       "  <tbody>\n",
       "    <tr>\n",
       "      <th>0</th>\n",
       "      <td>0.055358</td>\n",
       "      <td>0.054820</td>\n",
       "    </tr>\n",
       "    <tr>\n",
       "      <th>1</th>\n",
       "      <td>0.055197</td>\n",
       "      <td>0.055157</td>\n",
       "    </tr>\n",
       "    <tr>\n",
       "      <th>2</th>\n",
       "      <td>0.054763</td>\n",
       "      <td>0.054833</td>\n",
       "    </tr>\n",
       "    <tr>\n",
       "      <th>3</th>\n",
       "      <td>0.054754</td>\n",
       "      <td>0.054732</td>\n",
       "    </tr>\n",
       "    <tr>\n",
       "      <th>4</th>\n",
       "      <td>0.053320</td>\n",
       "      <td>0.053661</td>\n",
       "    </tr>\n",
       "    <tr>\n",
       "      <th>...</th>\n",
       "      <td>...</td>\n",
       "      <td>...</td>\n",
       "    </tr>\n",
       "    <tr>\n",
       "      <th>143</th>\n",
       "      <td>0.077920</td>\n",
       "      <td>0.076898</td>\n",
       "    </tr>\n",
       "    <tr>\n",
       "      <th>144</th>\n",
       "      <td>0.077494</td>\n",
       "      <td>0.076813</td>\n",
       "    </tr>\n",
       "    <tr>\n",
       "      <th>145</th>\n",
       "      <td>0.074319</td>\n",
       "      <td>0.075489</td>\n",
       "    </tr>\n",
       "    <tr>\n",
       "      <th>146</th>\n",
       "      <td>0.077477</td>\n",
       "      <td>0.077189</td>\n",
       "    </tr>\n",
       "    <tr>\n",
       "      <th>147</th>\n",
       "      <td>0.077915</td>\n",
       "      <td>0.076877</td>\n",
       "    </tr>\n",
       "  </tbody>\n",
       "</table>\n",
       "<p>148 rows × 2 columns</p>\n",
       "</div>"
      ],
      "text/plain": [
       "     Predictions  True_test\n",
       "0       0.055358   0.054820\n",
       "1       0.055197   0.055157\n",
       "2       0.054763   0.054833\n",
       "3       0.054754   0.054732\n",
       "4       0.053320   0.053661\n",
       "..           ...        ...\n",
       "143     0.077920   0.076898\n",
       "144     0.077494   0.076813\n",
       "145     0.074319   0.075489\n",
       "146     0.077477   0.077189\n",
       "147     0.077915   0.076877\n",
       "\n",
       "[148 rows x 2 columns]"
      ]
     },
     "execution_count": 23,
     "metadata": {},
     "output_type": "execute_result"
    }
   ],
   "source": [
    "comparaison"
   ]
  },
  {
   "cell_type": "code",
   "execution_count": 24,
   "metadata": {},
   "outputs": [
    {
     "data": {
      "text/plain": [
       "<Axes: xlabel='Predictions', ylabel='True_test'>"
      ]
     },
     "execution_count": 24,
     "metadata": {},
     "output_type": "execute_result"
    },
    {
     "data": {
      "image/png": "[encoded data removed]",
      "text/plain": [
       "<Figure size 640x480 with 1 Axes>"
      ]
     },
     "metadata": {},
     "output_type": "display_data"
    }
   ],
   "source": [
    "sns.lineplot(comparaison,x='Predictions',y='True_test')"
   ]
  },
  {
   "cell_type": "code",
   "execution_count": 25,
   "metadata": {},
   "outputs": [],
   "source": [
    "import pickle\n",
    "with open('trx_regressor','wb') as f:\n",
    "    pickle.dump(xgb_r,f)"
   ]
  }
 ],
 "metadata": {
  "kernelspec": {
   "display_name": "Python 3",
   "language": "python",
   "name": "python3"
  },
  "language_info": {
   "codemirror_mode": {
    "name": "ipython",
    "version": 3
   },
   "file_extension": ".py",
   "mimetype": "text/x-python",
   "name": "python",
   "nbconvert_exporter": "python",
   "pygments_lexer": "ipython3",
   "version": "3.10.11"
  },
  "orig_nbformat": 4
 },
 "nbformat": 4,
 "nbformat_minor": 2
}
