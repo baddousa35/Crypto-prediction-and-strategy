{
 "cells": [
  {
   "attachments": {},
   "cell_type": "markdown",
   "metadata": {},
   "source": [
    "# ETH price prediction"
   ]
  },
  {
   "cell_type": "code",
   "execution_count": 2,
   "metadata": {},
   "outputs": [],
   "source": [
    "import pandas as pd\n",
    "import numpy as np \n",
    "import matplotlib.pyplot as plt\n",
    "import seaborn as sns"
   ]
  },
  {
   "cell_type": "code",
   "execution_count": 3,
   "metadata": {},
   "outputs": [],
   "source": [
    "data = pd.read_csv('ETH-USD.csv')"
   ]
  },
  {
   "cell_type": "code",
   "execution_count": 4,
   "metadata": {},
   "outputs": [
    {
     "data": {
      "text/html": [
       "<div>\n",
       "<style scoped>\n",
       "    .dataframe tbody tr th:only-of-type {\n",
       "        vertical-align: middle;\n",
       "    }\n",
       "\n",
       "    .dataframe tbody tr th {\n",
       "        vertical-align: top;\n",
       "    }\n",
       "\n",
       "    .dataframe thead th {\n",
       "        text-align: right;\n",
       "    }\n",
       "</style>\n",
       "<table border=\"1\" class=\"dataframe\">\n",
       "  <thead>\n",
       "    <tr style=\"text-align: right;\">\n",
       "      <th></th>\n",
       "      <th>Date</th>\n",
       "      <th>Open</th>\n",
       "      <th>High</th>\n",
       "      <th>Low</th>\n",
       "      <th>Close</th>\n",
       "      <th>Adj Close</th>\n",
       "      <th>Volume</th>\n",
       "    </tr>\n",
       "  </thead>\n",
       "  <tbody>\n",
       "    <tr>\n",
       "      <th>0</th>\n",
       "      <td>2020-01-01</td>\n",
       "      <td>129.630661</td>\n",
       "      <td>132.835358</td>\n",
       "      <td>129.198288</td>\n",
       "      <td>130.802002</td>\n",
       "      <td>130.802002</td>\n",
       "      <td>7935230330</td>\n",
       "    </tr>\n",
       "    <tr>\n",
       "      <th>1</th>\n",
       "      <td>2020-01-02</td>\n",
       "      <td>130.820038</td>\n",
       "      <td>130.820038</td>\n",
       "      <td>126.954910</td>\n",
       "      <td>127.410179</td>\n",
       "      <td>127.410179</td>\n",
       "      <td>8032709256</td>\n",
       "    </tr>\n",
       "    <tr>\n",
       "      <th>2</th>\n",
       "      <td>2020-01-03</td>\n",
       "      <td>127.411263</td>\n",
       "      <td>134.554016</td>\n",
       "      <td>126.490021</td>\n",
       "      <td>134.171707</td>\n",
       "      <td>134.171707</td>\n",
       "      <td>10476845358</td>\n",
       "    </tr>\n",
       "    <tr>\n",
       "      <th>3</th>\n",
       "      <td>2020-01-04</td>\n",
       "      <td>134.168518</td>\n",
       "      <td>136.052719</td>\n",
       "      <td>133.040558</td>\n",
       "      <td>135.069366</td>\n",
       "      <td>135.069366</td>\n",
       "      <td>7430904515</td>\n",
       "    </tr>\n",
       "    <tr>\n",
       "      <th>4</th>\n",
       "      <td>2020-01-05</td>\n",
       "      <td>135.072098</td>\n",
       "      <td>139.410202</td>\n",
       "      <td>135.045624</td>\n",
       "      <td>136.276779</td>\n",
       "      <td>136.276779</td>\n",
       "      <td>7526675353</td>\n",
       "    </tr>\n",
       "  </tbody>\n",
       "</table>\n",
       "</div>"
      ],
      "text/plain": [
       "         Date        Open        High         Low       Close   Adj Close  \\\n",
       "0  2020-01-01  129.630661  132.835358  129.198288  130.802002  130.802002   \n",
       "1  2020-01-02  130.820038  130.820038  126.954910  127.410179  127.410179   \n",
       "2  2020-01-03  127.411263  134.554016  126.490021  134.171707  134.171707   \n",
       "3  2020-01-04  134.168518  136.052719  133.040558  135.069366  135.069366   \n",
       "4  2020-01-05  135.072098  139.410202  135.045624  136.276779  136.276779   \n",
       "\n",
       "        Volume  \n",
       "0   7935230330  \n",
       "1   8032709256  \n",
       "2  10476845358  \n",
       "3   7430904515  \n",
       "4   7526675353  "
      ]
     },
     "execution_count": 4,
     "metadata": {},
     "output_type": "execute_result"
    }
   ],
   "source": [
    "data.head(5)"
   ]
  },
  {
   "attachments": {},
   "cell_type": "markdown",
   "metadata": {},
   "source": [
    "### Adding features"
   ]
  },
  {
   "cell_type": "code",
   "execution_count": 5,
   "metadata": {},
   "outputs": [],
   "source": [
    "year = []\n",
    "month=[]\n",
    "day=[]\n",
    "for i in data['Date'].values:\n",
    "    x = i.split('-')\n",
    "    year.append(int(x[0]))\n",
    "    month.append(int(x[1]))\n",
    "    day.append(int(x[2]))\n",
    "data['Year'] = year\n",
    "data['Month'] = month\n",
    "data['Day'] = day"
   ]
  },
  {
   "cell_type": "code",
   "execution_count": 6,
   "metadata": {},
   "outputs": [
    {
     "data": {
      "text/html": [
       "<div>\n",
       "<style scoped>\n",
       "    .dataframe tbody tr th:only-of-type {\n",
       "        vertical-align: middle;\n",
       "    }\n",
       "\n",
       "    .dataframe tbody tr th {\n",
       "        vertical-align: top;\n",
       "    }\n",
       "\n",
       "    .dataframe thead th {\n",
       "        text-align: right;\n",
       "    }\n",
       "</style>\n",
       "<table border=\"1\" class=\"dataframe\">\n",
       "  <thead>\n",
       "    <tr style=\"text-align: right;\">\n",
       "      <th></th>\n",
       "      <th>Date</th>\n",
       "      <th>Open</th>\n",
       "      <th>High</th>\n",
       "      <th>Low</th>\n",
       "      <th>Close</th>\n",
       "      <th>Adj Close</th>\n",
       "      <th>Volume</th>\n",
       "      <th>Year</th>\n",
       "      <th>Month</th>\n",
       "      <th>Day</th>\n",
       "    </tr>\n",
       "  </thead>\n",
       "  <tbody>\n",
       "    <tr>\n",
       "      <th>270</th>\n",
       "      <td>2020-09-27</td>\n",
       "      <td>354.959900</td>\n",
       "      <td>361.984406</td>\n",
       "      <td>349.834076</td>\n",
       "      <td>357.438507</td>\n",
       "      <td>357.438507</td>\n",
       "      <td>13598126926</td>\n",
       "      <td>2020</td>\n",
       "      <td>9</td>\n",
       "      <td>27</td>\n",
       "    </tr>\n",
       "    <tr>\n",
       "      <th>375</th>\n",
       "      <td>2021-01-10</td>\n",
       "      <td>1280.871094</td>\n",
       "      <td>1347.926147</td>\n",
       "      <td>1194.715576</td>\n",
       "      <td>1262.246704</td>\n",
       "      <td>1262.246704</td>\n",
       "      <td>40616938053</td>\n",
       "      <td>2021</td>\n",
       "      <td>1</td>\n",
       "      <td>10</td>\n",
       "    </tr>\n",
       "    <tr>\n",
       "      <th>1072</th>\n",
       "      <td>2022-12-08</td>\n",
       "      <td>1232.451782</td>\n",
       "      <td>1286.229736</td>\n",
       "      <td>1226.358521</td>\n",
       "      <td>1281.116333</td>\n",
       "      <td>1281.116333</td>\n",
       "      <td>6227269815</td>\n",
       "      <td>2022</td>\n",
       "      <td>12</td>\n",
       "      <td>8</td>\n",
       "    </tr>\n",
       "    <tr>\n",
       "      <th>1151</th>\n",
       "      <td>2023-02-25</td>\n",
       "      <td>1608.658325</td>\n",
       "      <td>1608.865112</td>\n",
       "      <td>1567.631714</td>\n",
       "      <td>1594.914917</td>\n",
       "      <td>1594.914917</td>\n",
       "      <td>5657686235</td>\n",
       "      <td>2023</td>\n",
       "      <td>2</td>\n",
       "      <td>25</td>\n",
       "    </tr>\n",
       "    <tr>\n",
       "      <th>1215</th>\n",
       "      <td>2023-04-30</td>\n",
       "      <td>1908.741333</td>\n",
       "      <td>1938.417969</td>\n",
       "      <td>1876.924316</td>\n",
       "      <td>1876.924316</td>\n",
       "      <td>1876.924316</td>\n",
       "      <td>6539641957</td>\n",
       "      <td>2023</td>\n",
       "      <td>4</td>\n",
       "      <td>30</td>\n",
       "    </tr>\n",
       "  </tbody>\n",
       "</table>\n",
       "</div>"
      ],
      "text/plain": [
       "            Date         Open         High          Low        Close  \\\n",
       "270   2020-09-27   354.959900   361.984406   349.834076   357.438507   \n",
       "375   2021-01-10  1280.871094  1347.926147  1194.715576  1262.246704   \n",
       "1072  2022-12-08  1232.451782  1286.229736  1226.358521  1281.116333   \n",
       "1151  2023-02-25  1608.658325  1608.865112  1567.631714  1594.914917   \n",
       "1215  2023-04-30  1908.741333  1938.417969  1876.924316  1876.924316   \n",
       "\n",
       "        Adj Close       Volume  Year  Month  Day  \n",
       "270    357.438507  13598126926  2020      9   27  \n",
       "375   1262.246704  40616938053  2021      1   10  \n",
       "1072  1281.116333   6227269815  2022     12    8  \n",
       "1151  1594.914917   5657686235  2023      2   25  \n",
       "1215  1876.924316   6539641957  2023      4   30  "
      ]
     },
     "execution_count": 6,
     "metadata": {},
     "output_type": "execute_result"
    }
   ],
   "source": [
    "data.sample(5)"
   ]
  },
  {
   "cell_type": "code",
   "execution_count": 7,
   "metadata": {},
   "outputs": [],
   "source": [
    "data['Date']=pd.to_datetime(data['Date'])"
   ]
  },
  {
   "cell_type": "code",
   "execution_count": 8,
   "metadata": {},
   "outputs": [],
   "source": [
    "# prev_score give us the difference between the highest price and the lowest price\n",
    "data['Prev_close'] = data['Close'].shift(1)\n",
    "data.dropna(axis=0,inplace=True)\n",
    "# delta_hl give us the difference between the highest and the actual close\n",
    "data['delta_hl'] = data['High'] - data['Low']"
   ]
  },
  {
   "cell_type": "code",
   "execution_count": 9,
   "metadata": {},
   "outputs": [
    {
     "name": "stderr",
     "output_type": "stream",
     "text": [
      "C:\\Users\\DELL\\AppData\\Local\\Temp\\ipykernel_6820\\1666691955.py:1: FutureWarning: The pandas.datetime class is deprecated and will be removed from pandas in a future version. Import from datetime module instead.\n",
      "  train = data[data['Date'] <= pd.datetime(2022,12,31,23,59)]\n",
      "C:\\Users\\DELL\\AppData\\Local\\Temp\\ipykernel_6820\\1666691955.py:2: FutureWarning: The pandas.datetime class is deprecated and will be removed from pandas in a future version. Import from datetime module instead.\n",
      "  test = data[data['Date'] >= pd.datetime(2022,12,31,23,59)]\n"
     ]
    }
   ],
   "source": [
    "train = data[data['Date'] <= pd.datetime(2022,12,31,23,59)]\n",
    "test = data[data['Date'] >= pd.datetime(2022,12,31,23,59)]"
   ]
  },
  {
   "attachments": {},
   "cell_type": "markdown",
   "metadata": {},
   "source": [
    "### Visualisation"
   ]
  },
  {
   "cell_type": "code",
   "execution_count": 10,
   "metadata": {},
   "outputs": [
    {
     "data": {
      "image/png": "[encoded data removed]",
      "text/plain": [
       "<Figure size 640x480 with 1 Axes>"
      ]
     },
     "metadata": {},
     "output_type": "display_data"
    }
   ],
   "source": [
    "sns.lineplot(data,x='Date',y='Open')\n",
    "plt.xticks(rotation = 50)\n",
    "plt.show()      "
   ]
  },
  {
   "cell_type": "code",
   "execution_count": 11,
   "metadata": {},
   "outputs": [
    {
     "data": {
      "image/png": "[encoded data removed]",
      "text/plain": [
       "<Figure size 640x480 with 1 Axes>"
      ]
     },
     "metadata": {},
     "output_type": "display_data"
    }
   ],
   "source": [
    "sns.lineplot(data,x='Date',y='Close')\n",
    "sns.lineplot(data,x='Date',y='High')\n",
    "sns.lineplot(data,x='Date',y='Low')\n",
    "plt.xticks(rotation = 50)\n",
    "plt.show()      "
   ]
  },
  {
   "cell_type": "code",
   "execution_count": 12,
   "metadata": {},
   "outputs": [],
   "source": [
    "true_test = test['Close']"
   ]
  },
  {
   "cell_type": "code",
   "execution_count": 13,
   "metadata": {},
   "outputs": [
    {
     "name": "stderr",
     "output_type": "stream",
     "text": [
      "C:\\Users\\DELL\\AppData\\Local\\Temp\\ipykernel_6820\\565370736.py:1: SettingWithCopyWarning: \n",
      "A value is trying to be set on a copy of a slice from a DataFrame\n",
      "\n",
      "See the caveats in the documentation: https://pandas.pydata.org/pandas-docs/stable/user_guide/indexing.html#returning-a-view-versus-a-copy\n",
      "  train.drop('Date',axis=1,inplace=True)\n",
      "C:\\Users\\DELL\\AppData\\Local\\Temp\\ipykernel_6820\\565370736.py:2: SettingWithCopyWarning: \n",
      "A value is trying to be set on a copy of a slice from a DataFrame\n",
      "\n",
      "See the caveats in the documentation: https://pandas.pydata.org/pandas-docs/stable/user_guide/indexing.html#returning-a-view-versus-a-copy\n",
      "  test.drop('Date',axis=1,inplace=True)\n"
     ]
    }
   ],
   "source": [
    "train.drop('Date',axis=1,inplace=True)\n",
    "test.drop('Date',axis=1,inplace=True)"
   ]
  },
  {
   "attachments": {},
   "cell_type": "markdown",
   "metadata": {},
   "source": [
    "### Model"
   ]
  },
  {
   "cell_type": "code",
   "execution_count": 14,
   "metadata": {},
   "outputs": [],
   "source": [
    "import xgboost as xgb\n",
    "from sklearn.model_selection import train_test_split\n",
    "from sklearn.metrics import mean_squared_error as MSE\n",
    "from sklearn import metrics"
   ]
  },
  {
   "cell_type": "code",
   "execution_count": 15,
   "metadata": {},
   "outputs": [
    {
     "name": "stdout",
     "output_type": "stream",
     "text": [
      "RMSE :  73.809436\n",
      "R squared:  0.9967817639797237\n"
     ]
    }
   ],
   "source": [
    "y=train['Close']\n",
    "x=train.drop('Close',axis=1,inplace=False)\n",
    "train_X, test_X, train_y, test_y = train_test_split(x, y,test_size = 0.3, random_state = 40)\n",
    "xgb_r = xgb.XGBRegressor(objective ='reg:squarederror',n_estimators = 10, seed = 123)\n",
    "xgb_r.fit(train_X, train_y)\n",
    "pred = xgb_r.predict(test_X)\n",
    "rmse = np.sqrt(MSE(test_y, pred))\n",
    "print(\"RMSE : % f\" %(rmse))\n",
    "print(\"R squared: \", metrics.r2_score(test_y,pred))"
   ]
  },
  {
   "cell_type": "code",
   "execution_count": 16,
   "metadata": {},
   "outputs": [],
   "source": [
    "tst = test.drop('Close',axis=1,inplace=False)\n",
    "tst=tst.to_numpy()"
   ]
  },
  {
   "cell_type": "code",
   "execution_count": 17,
   "metadata": {},
   "outputs": [
    {
     "name": "stdout",
     "output_type": "stream",
     "text": [
      "RMSE :  61.613814\n",
      "R squared:  0.8948556266597353\n"
     ]
    }
   ],
   "source": [
    "pred=xgb_r.predict(tst)\n",
    "rmse = np.sqrt(MSE(true_test, pred))\n",
    "print(\"RMSE : % f\" %(rmse))\n",
    "print(\"R squared: \", metrics.r2_score(true_test,pred)) "
   ]
  },
  {
   "attachments": {},
   "cell_type": "markdown",
   "metadata": {},
   "source": [
    "### Optimisation"
   ]
  },
  {
   "cell_type": "code",
   "execution_count": 18,
   "metadata": {},
   "outputs": [
    {
     "data": {
      "text/plain": [
       "44"
      ]
     },
     "execution_count": 18,
     "metadata": {},
     "output_type": "execute_result"
    }
   ],
   "source": [
    "def accuracy(k):    \n",
    "    train_X, test_X, train_y, test_y = train_test_split(x, y,test_size = 0.3, random_state = k)\n",
    "    xgb_r = xgb.XGBRegressor(objective ='reg:tweedie',n_estimators = 40, seed = 0)\n",
    "    xgb_r.fit(train_X, train_y)\n",
    "    pred = xgb_r.predict(test_X)\n",
    "    rmse = np.sqrt(MSE(test_y, pred))\n",
    "    return rmse\n",
    "def best_rd(x):\n",
    "    d=[]\n",
    "    for i in range(0,x+1):\n",
    "        d.append(accuracy(i))\n",
    "    return d\n",
    "c =best_rd(200)\n",
    "m=c.index(min(c))\n",
    "m"
   ]
  },
  {
   "cell_type": "code",
   "execution_count": 19,
   "metadata": {},
   "outputs": [
    {
     "data": {
      "text/plain": [
       "69"
      ]
     },
     "execution_count": 19,
     "metadata": {},
     "output_type": "execute_result"
    }
   ],
   "source": [
    "def accuracy(k):    \n",
    "    train_X, test_X, train_y, test_y = train_test_split(x, y,test_size = 0.3, random_state = 44)\n",
    "    xgb_r = xgb.XGBRegressor(objective ='reg:tweedie',n_estimators = k, seed = 0)\n",
    "    xgb_r.fit(train_X, train_y)\n",
    "    pred = xgb_r.predict(test_X)\n",
    "    rmse = np.sqrt(MSE(test_y, pred))\n",
    "    return rmse\n",
    "def best_rd(x):\n",
    "    d=[]\n",
    "    for i in range(0,x+1):\n",
    "        d.append(accuracy(i))\n",
    "    return d\n",
    "c =best_rd(100)\n",
    "m=c.index(min(c))\n",
    "m"
   ]
  },
  {
   "attachments": {},
   "cell_type": "markdown",
   "metadata": {},
   "source": [
    "### Score and Evaluation"
   ]
  },
  {
   "cell_type": "code",
   "execution_count": 21,
   "metadata": {},
   "outputs": [
    {
     "name": "stdout",
     "output_type": "stream",
     "text": [
      "RMSE :  9.103153\n",
      "R squared:  0.9999459872469382\n"
     ]
    }
   ],
   "source": [
    "y=train['Close']\n",
    "x=train.drop('Close',axis=1,inplace=False)\n",
    "train_X, test_X, train_y, test_y = train_test_split(x, y,test_size = 0.3, random_state = 44)\n",
    "xgb_r = xgb.XGBRegressor(objective ='reg:tweedie',n_estimators = 69, seed = 0)\n",
    "xgb_r.fit(train_X, train_y)\n",
    "pred = xgb_r.predict(test_X)\n",
    "rmse = np.sqrt(MSE(test_y, pred))\n",
    "print(\"RMSE : % f\" %(rmse))\n",
    "print(\"R squared: \", metrics.r2_score(test_y,pred))"
   ]
  },
  {
   "cell_type": "code",
   "execution_count": 22,
   "metadata": {},
   "outputs": [
    {
     "name": "stdout",
     "output_type": "stream",
     "text": [
      "RMSE :  7.078898\n",
      "R squared:  0.9986120902890627\n"
     ]
    }
   ],
   "source": [
    "pred=xgb_r.predict(tst)\n",
    "rmse = np.sqrt(MSE(true_test, pred))\n",
    "print(\"RMSE : % f\" %(rmse))\n",
    "print(\"R squared: \", metrics.r2_score(true_test,pred)) "
   ]
  },
  {
   "cell_type": "code",
   "execution_count": 23,
   "metadata": {},
   "outputs": [],
   "source": [
    "comparaison = pd.DataFrame()\n",
    "x = true_test.values"
   ]
  },
  {
   "cell_type": "code",
   "execution_count": 24,
   "metadata": {},
   "outputs": [],
   "source": [
    "comparaison['Predictions'] = pred\n",
    "comparaison['True_test'] = x"
   ]
  },
  {
   "cell_type": "code",
   "execution_count": 25,
   "metadata": {},
   "outputs": [
    {
     "data": {
      "text/html": [
       "<div>\n",
       "<style scoped>\n",
       "    .dataframe tbody tr th:only-of-type {\n",
       "        vertical-align: middle;\n",
       "    }\n",
       "\n",
       "    .dataframe tbody tr th {\n",
       "        vertical-align: top;\n",
       "    }\n",
       "\n",
       "    .dataframe thead th {\n",
       "        text-align: right;\n",
       "    }\n",
       "</style>\n",
       "<table border=\"1\" class=\"dataframe\">\n",
       "  <thead>\n",
       "    <tr style=\"text-align: right;\">\n",
       "      <th></th>\n",
       "      <th>Predictions</th>\n",
       "      <th>True_test</th>\n",
       "    </tr>\n",
       "  </thead>\n",
       "  <tbody>\n",
       "    <tr>\n",
       "      <th>0</th>\n",
       "      <td>1195.004272</td>\n",
       "      <td>1200.964844</td>\n",
       "    </tr>\n",
       "    <tr>\n",
       "      <th>1</th>\n",
       "      <td>1216.155396</td>\n",
       "      <td>1214.656616</td>\n",
       "    </tr>\n",
       "    <tr>\n",
       "      <th>2</th>\n",
       "      <td>1215.969849</td>\n",
       "      <td>1214.778809</td>\n",
       "    </tr>\n",
       "    <tr>\n",
       "      <th>3</th>\n",
       "      <td>1269.114014</td>\n",
       "      <td>1256.526611</td>\n",
       "    </tr>\n",
       "    <tr>\n",
       "      <th>4</th>\n",
       "      <td>1233.517700</td>\n",
       "      <td>1250.438599</td>\n",
       "    </tr>\n",
       "    <tr>\n",
       "      <th>...</th>\n",
       "      <td>...</td>\n",
       "      <td>...</td>\n",
       "    </tr>\n",
       "    <tr>\n",
       "      <th>143</th>\n",
       "      <td>1804.051636</td>\n",
       "      <td>1800.099976</td>\n",
       "    </tr>\n",
       "    <tr>\n",
       "      <th>144</th>\n",
       "      <td>1797.019165</td>\n",
       "      <td>1805.953735</td>\n",
       "    </tr>\n",
       "    <tr>\n",
       "      <th>145</th>\n",
       "      <td>1829.772949</td>\n",
       "      <td>1828.689697</td>\n",
       "    </tr>\n",
       "    <tr>\n",
       "      <th>146</th>\n",
       "      <td>1827.976440</td>\n",
       "      <td>1831.118286</td>\n",
       "    </tr>\n",
       "    <tr>\n",
       "      <th>147</th>\n",
       "      <td>1845.571167</td>\n",
       "      <td>1842.187744</td>\n",
       "    </tr>\n",
       "  </tbody>\n",
       "</table>\n",
       "<p>148 rows × 2 columns</p>\n",
       "</div>"
      ],
      "text/plain": [
       "     Predictions    True_test\n",
       "0    1195.004272  1200.964844\n",
       "1    1216.155396  1214.656616\n",
       "2    1215.969849  1214.778809\n",
       "3    1269.114014  1256.526611\n",
       "4    1233.517700  1250.438599\n",
       "..           ...          ...\n",
       "143  1804.051636  1800.099976\n",
       "144  1797.019165  1805.953735\n",
       "145  1829.772949  1828.689697\n",
       "146  1827.976440  1831.118286\n",
       "147  1845.571167  1842.187744\n",
       "\n",
       "[148 rows x 2 columns]"
      ]
     },
     "execution_count": 25,
     "metadata": {},
     "output_type": "execute_result"
    }
   ],
   "source": [
    "comparaison"
   ]
  },
  {
   "cell_type": "code",
   "execution_count": 26,
   "metadata": {},
   "outputs": [
    {
     "data": {
      "text/plain": [
       "<Axes: xlabel='Predictions', ylabel='True_test'>"
      ]
     },
     "execution_count": 26,
     "metadata": {},
     "output_type": "execute_result"
    },
    {
     "data": {
      "image/png": "[encoded data removed]",
      "text/plain": [
       "<Figure size 640x480 with 1 Axes>"
      ]
     },
     "metadata": {},
     "output_type": "display_data"
    }
   ],
   "source": [
    "sns.lineplot(comparaison,x='Predictions',y='True_test')"
   ]
  },
  {
   "cell_type": "code",
   "execution_count": 27,
   "metadata": {},
   "outputs": [],
   "source": [
    "import pickle\n",
    "with open('eth_regressor','wb') as f:\n",
    "    pickle.dump(xgb_r,f)"
   ]
  }
 ],
 "metadata": {
  "kernelspec": {
   "display_name": "Python 3",
   "language": "python",
   "name": "python3"
  },
  "language_info": {
   "codemirror_mode": {
    "name": "ipython",
    "version": 3
   },
   "file_extension": ".py",
   "mimetype": "text/x-python",
   "name": "python",
   "nbconvert_exporter": "python",
   "pygments_lexer": "ipython3",
   "version": "3.10.11"
  },
  "orig_nbformat": 4
 },
 "nbformat": 4,
 "nbformat_minor": 2
}
