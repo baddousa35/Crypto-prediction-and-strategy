{
 "cells": [
  {
   "attachments": {},
   "cell_type": "markdown",
   "metadata": {},
   "source": [
    "# BTC price prediction"
   ]
  },
  {
   "cell_type": "code",
   "execution_count": 457,
   "metadata": {},
   "outputs": [],
   "source": [
    "import pandas as pd\n",
    "import numpy as np \n",
    "import matplotlib.pyplot as plt\n",
    "import seaborn as sns"
   ]
  },
  {
   "cell_type": "code",
   "execution_count": 458,
   "metadata": {},
   "outputs": [],
   "source": [
    "data = pd.read_csv('BTC-USD.csv')"
   ]
  },
  {
   "cell_type": "code",
   "execution_count": 459,
   "metadata": {},
   "outputs": [
    {
     "data": {
      "text/html": [
       "<div>\n",
       "<style scoped>\n",
       "    .dataframe tbody tr th:only-of-type {\n",
       "        vertical-align: middle;\n",
       "    }\n",
       "\n",
       "    .dataframe tbody tr th {\n",
       "        vertical-align: top;\n",
       "    }\n",
       "\n",
       "    .dataframe thead th {\n",
       "        text-align: right;\n",
       "    }\n",
       "</style>\n",
       "<table border=\"1\" class=\"dataframe\">\n",
       "  <thead>\n",
       "    <tr style=\"text-align: right;\">\n",
       "      <th></th>\n",
       "      <th>Date</th>\n",
       "      <th>Open</th>\n",
       "      <th>High</th>\n",
       "      <th>Low</th>\n",
       "      <th>Close</th>\n",
       "      <th>Adj Close</th>\n",
       "      <th>Volume</th>\n",
       "    </tr>\n",
       "  </thead>\n",
       "  <tbody>\n",
       "    <tr>\n",
       "      <th>0</th>\n",
       "      <td>2020-01-01</td>\n",
       "      <td>7194.892090</td>\n",
       "      <td>7254.330566</td>\n",
       "      <td>7174.944336</td>\n",
       "      <td>7200.174316</td>\n",
       "      <td>7200.174316</td>\n",
       "      <td>18565664997</td>\n",
       "    </tr>\n",
       "    <tr>\n",
       "      <th>1</th>\n",
       "      <td>2020-01-02</td>\n",
       "      <td>7202.551270</td>\n",
       "      <td>7212.155273</td>\n",
       "      <td>6935.270020</td>\n",
       "      <td>6985.470215</td>\n",
       "      <td>6985.470215</td>\n",
       "      <td>20802083465</td>\n",
       "    </tr>\n",
       "    <tr>\n",
       "      <th>2</th>\n",
       "      <td>2020-01-03</td>\n",
       "      <td>6984.428711</td>\n",
       "      <td>7413.715332</td>\n",
       "      <td>6914.996094</td>\n",
       "      <td>7344.884277</td>\n",
       "      <td>7344.884277</td>\n",
       "      <td>28111481032</td>\n",
       "    </tr>\n",
       "    <tr>\n",
       "      <th>3</th>\n",
       "      <td>2020-01-04</td>\n",
       "      <td>7345.375488</td>\n",
       "      <td>7427.385742</td>\n",
       "      <td>7309.514160</td>\n",
       "      <td>7410.656738</td>\n",
       "      <td>7410.656738</td>\n",
       "      <td>18444271275</td>\n",
       "    </tr>\n",
       "    <tr>\n",
       "      <th>4</th>\n",
       "      <td>2020-01-05</td>\n",
       "      <td>7410.451660</td>\n",
       "      <td>7544.497070</td>\n",
       "      <td>7400.535645</td>\n",
       "      <td>7411.317383</td>\n",
       "      <td>7411.317383</td>\n",
       "      <td>19725074095</td>\n",
       "    </tr>\n",
       "  </tbody>\n",
       "</table>\n",
       "</div>"
      ],
      "text/plain": [
       "         Date         Open         High          Low        Close  \\\n",
       "0  2020-01-01  7194.892090  7254.330566  7174.944336  7200.174316   \n",
       "1  2020-01-02  7202.551270  7212.155273  6935.270020  6985.470215   \n",
       "2  2020-01-03  6984.428711  7413.715332  6914.996094  7344.884277   \n",
       "3  2020-01-04  7345.375488  7427.385742  7309.514160  7410.656738   \n",
       "4  2020-01-05  7410.451660  7544.497070  7400.535645  7411.317383   \n",
       "\n",
       "     Adj Close       Volume  \n",
       "0  7200.174316  18565664997  \n",
       "1  6985.470215  20802083465  \n",
       "2  7344.884277  28111481032  \n",
       "3  7410.656738  18444271275  \n",
       "4  7411.317383  19725074095  "
      ]
     },
     "execution_count": 459,
     "metadata": {},
     "output_type": "execute_result"
    }
   ],
   "source": [
    "data.head(5)"
   ]
  },
  {
   "attachments": {},
   "cell_type": "markdown",
   "metadata": {},
   "source": [
    "### Preprocessing"
   ]
  },
  {
   "cell_type": "code",
   "execution_count": 460,
   "metadata": {},
   "outputs": [],
   "source": [
    "year = []\n",
    "month=[]\n",
    "day=[]\n",
    "for i in data['Date'].values:\n",
    "    x = i.split('-')\n",
    "    year.append(int(x[0]))\n",
    "    month.append(int(x[1]))\n",
    "    day.append(int(x[2]))\n",
    "data['Year'] = year\n",
    "data['Month'] = month\n",
    "data['Day'] = day"
   ]
  },
  {
   "cell_type": "code",
   "execution_count": 461,
   "metadata": {},
   "outputs": [
    {
     "data": {
      "text/html": [
       "<div>\n",
       "<style scoped>\n",
       "    .dataframe tbody tr th:only-of-type {\n",
       "        vertical-align: middle;\n",
       "    }\n",
       "\n",
       "    .dataframe tbody tr th {\n",
       "        vertical-align: top;\n",
       "    }\n",
       "\n",
       "    .dataframe thead th {\n",
       "        text-align: right;\n",
       "    }\n",
       "</style>\n",
       "<table border=\"1\" class=\"dataframe\">\n",
       "  <thead>\n",
       "    <tr style=\"text-align: right;\">\n",
       "      <th></th>\n",
       "      <th>Date</th>\n",
       "      <th>Open</th>\n",
       "      <th>High</th>\n",
       "      <th>Low</th>\n",
       "      <th>Close</th>\n",
       "      <th>Adj Close</th>\n",
       "      <th>Volume</th>\n",
       "      <th>Year</th>\n",
       "      <th>Month</th>\n",
       "      <th>Day</th>\n",
       "    </tr>\n",
       "  </thead>\n",
       "  <tbody>\n",
       "    <tr>\n",
       "      <th>378</th>\n",
       "      <td>2021-01-13</td>\n",
       "      <td>33915.121094</td>\n",
       "      <td>37599.960938</td>\n",
       "      <td>32584.667969</td>\n",
       "      <td>37316.359375</td>\n",
       "      <td>37316.359375</td>\n",
       "      <td>69364315979</td>\n",
       "      <td>2021</td>\n",
       "      <td>1</td>\n",
       "      <td>13</td>\n",
       "    </tr>\n",
       "    <tr>\n",
       "      <th>844</th>\n",
       "      <td>2022-04-24</td>\n",
       "      <td>39478.375000</td>\n",
       "      <td>39845.925781</td>\n",
       "      <td>39233.539063</td>\n",
       "      <td>39469.292969</td>\n",
       "      <td>39469.292969</td>\n",
       "      <td>17964398167</td>\n",
       "      <td>2022</td>\n",
       "      <td>4</td>\n",
       "      <td>24</td>\n",
       "    </tr>\n",
       "    <tr>\n",
       "      <th>1184</th>\n",
       "      <td>2023-03-30</td>\n",
       "      <td>28350.140625</td>\n",
       "      <td>29159.902344</td>\n",
       "      <td>27720.160156</td>\n",
       "      <td>28033.562500</td>\n",
       "      <td>28033.562500</td>\n",
       "      <td>22435349951</td>\n",
       "      <td>2023</td>\n",
       "      <td>3</td>\n",
       "      <td>30</td>\n",
       "    </tr>\n",
       "    <tr>\n",
       "      <th>423</th>\n",
       "      <td>2021-02-27</td>\n",
       "      <td>46344.773438</td>\n",
       "      <td>48253.269531</td>\n",
       "      <td>45269.027344</td>\n",
       "      <td>46188.453125</td>\n",
       "      <td>46188.453125</td>\n",
       "      <td>45910946382</td>\n",
       "      <td>2021</td>\n",
       "      <td>2</td>\n",
       "      <td>27</td>\n",
       "    </tr>\n",
       "    <tr>\n",
       "      <th>649</th>\n",
       "      <td>2021-10-11</td>\n",
       "      <td>54734.125000</td>\n",
       "      <td>57793.039063</td>\n",
       "      <td>54519.765625</td>\n",
       "      <td>57484.789063</td>\n",
       "      <td>57484.789063</td>\n",
       "      <td>42637331698</td>\n",
       "      <td>2021</td>\n",
       "      <td>10</td>\n",
       "      <td>11</td>\n",
       "    </tr>\n",
       "  </tbody>\n",
       "</table>\n",
       "</div>"
      ],
      "text/plain": [
       "            Date          Open          High           Low         Close  \\\n",
       "378   2021-01-13  33915.121094  37599.960938  32584.667969  37316.359375   \n",
       "844   2022-04-24  39478.375000  39845.925781  39233.539063  39469.292969   \n",
       "1184  2023-03-30  28350.140625  29159.902344  27720.160156  28033.562500   \n",
       "423   2021-02-27  46344.773438  48253.269531  45269.027344  46188.453125   \n",
       "649   2021-10-11  54734.125000  57793.039063  54519.765625  57484.789063   \n",
       "\n",
       "         Adj Close       Volume  Year  Month  Day  \n",
       "378   37316.359375  69364315979  2021      1   13  \n",
       "844   39469.292969  17964398167  2022      4   24  \n",
       "1184  28033.562500  22435349951  2023      3   30  \n",
       "423   46188.453125  45910946382  2021      2   27  \n",
       "649   57484.789063  42637331698  2021     10   11  "
      ]
     },
     "execution_count": 461,
     "metadata": {},
     "output_type": "execute_result"
    }
   ],
   "source": [
    "data.sample(5)"
   ]
  },
  {
   "cell_type": "code",
   "execution_count": 462,
   "metadata": {},
   "outputs": [],
   "source": [
    "data['Date']=pd.to_datetime(data['Date'])"
   ]
  },
  {
   "cell_type": "code",
   "execution_count": 463,
   "metadata": {},
   "outputs": [],
   "source": [
    "# prev_score give us the difference between the highest price and the lowest price\n",
    "data['Prev_close'] = data['Close'].shift(1)\n",
    "data.dropna(axis=0,inplace=True)\n",
    "# delta_hl give us the difference between the highest and the actual close\n",
    "data['delta_hl'] = data['High'] - data['Low']"
   ]
  },
  {
   "cell_type": "code",
   "execution_count": 464,
   "metadata": {},
   "outputs": [
    {
     "name": "stderr",
     "output_type": "stream",
     "text": [
      "C:\\Users\\DELL\\AppData\\Local\\Temp\\ipykernel_14532\\1666691955.py:1: FutureWarning: The pandas.datetime class is deprecated and will be removed from pandas in a future version. Import from datetime module instead.\n",
      "  train = data[data['Date'] <= pd.datetime(2022,12,31,23,59)]\n",
      "C:\\Users\\DELL\\AppData\\Local\\Temp\\ipykernel_14532\\1666691955.py:2: FutureWarning: The pandas.datetime class is deprecated and will be removed from pandas in a future version. Import from datetime module instead.\n",
      "  test = data[data['Date'] >= pd.datetime(2022,12,31,23,59)]\n"
     ]
    }
   ],
   "source": [
    "train = data[data['Date'] <= pd.datetime(2022,12,31,23,59)]\n",
    "test = data[data['Date'] >= pd.datetime(2022,12,31,23,59)]"
   ]
  },
  {
   "attachments": {},
   "cell_type": "markdown",
   "metadata": {},
   "source": [
    "### Data visualisation"
   ]
  },
  {
   "cell_type": "code",
   "execution_count": 465,
   "metadata": {},
   "outputs": [
    {
     "data": {
      "image/png": "[encoded data removed]",
      "text/plain": [
       "<Figure size 640x480 with 1 Axes>"
      ]
     },
     "metadata": {},
     "output_type": "display_data"
    }
   ],
   "source": [
    "sns.lineplot(data,x='Date',y='Open')\n",
    "plt.xticks(rotation = 50)\n",
    "plt.show()      "
   ]
  },
  {
   "cell_type": "code",
   "execution_count": 466,
   "metadata": {},
   "outputs": [
    {
     "data": {
      "image/png": "[encoded data removed]",
      "text/plain": [
       "<Figure size 640x480 with 1 Axes>"
      ]
     },
     "metadata": {},
     "output_type": "display_data"
    }
   ],
   "source": [
    "sns.lineplot(data,x='Date',y='Close')\n",
    "sns.lineplot(data,x='Date',y='High')\n",
    "sns.lineplot(data,x='Date',y='Low')\n",
    "plt.xticks(rotation = 50)\n",
    "plt.show()      "
   ]
  },
  {
   "cell_type": "code",
   "execution_count": 467,
   "metadata": {},
   "outputs": [],
   "source": [
    "true_test = test['Close']"
   ]
  },
  {
   "cell_type": "code",
   "execution_count": 468,
   "metadata": {},
   "outputs": [
    {
     "name": "stderr",
     "output_type": "stream",
     "text": [
      "C:\\Users\\DELL\\AppData\\Local\\Temp\\ipykernel_14532\\565370736.py:1: SettingWithCopyWarning: \n",
      "A value is trying to be set on a copy of a slice from a DataFrame\n",
      "\n",
      "See the caveats in the documentation: https://pandas.pydata.org/pandas-docs/stable/user_guide/indexing.html#returning-a-view-versus-a-copy\n",
      "  train.drop('Date',axis=1,inplace=True)\n",
      "C:\\Users\\DELL\\AppData\\Local\\Temp\\ipykernel_14532\\565370736.py:2: SettingWithCopyWarning: \n",
      "A value is trying to be set on a copy of a slice from a DataFrame\n",
      "\n",
      "See the caveats in the documentation: https://pandas.pydata.org/pandas-docs/stable/user_guide/indexing.html#returning-a-view-versus-a-copy\n",
      "  test.drop('Date',axis=1,inplace=True)\n"
     ]
    }
   ],
   "source": [
    "train.drop('Date',axis=1,inplace=True)\n",
    "test.drop('Date',axis=1,inplace=True)"
   ]
  },
  {
   "attachments": {},
   "cell_type": "markdown",
   "metadata": {},
   "source": [
    "### Model"
   ]
  },
  {
   "cell_type": "code",
   "execution_count": 469,
   "metadata": {},
   "outputs": [],
   "source": [
    "import xgboost as xgb\n",
    "from sklearn.model_selection import train_test_split\n",
    "from sklearn.metrics import mean_squared_error as MSE\n",
    "from sklearn import metrics"
   ]
  },
  {
   "cell_type": "code",
   "execution_count": 497,
   "metadata": {},
   "outputs": [
    {
     "name": "stdout",
     "output_type": "stream",
     "text": [
      "RMSE :  1129.951705\n",
      "R squared:  0.9958650917395325\n"
     ]
    }
   ],
   "source": [
    "y=train['Close']\n",
    "x=train.drop('Close',axis=1,inplace=False)\n",
    "train_X, test_X, train_y, test_y = train_test_split(x, y,test_size = 0.3, random_state = 40)\n",
    "xgb_r = xgb.XGBRegressor(objective ='reg:squarederror',n_estimators = 10, seed = 123)\n",
    "xgb_r.fit(train_X, train_y)\n",
    "pred = xgb_r.predict(test_X)\n",
    "rmse = np.sqrt(MSE(test_y, pred))\n",
    "print(\"RMSE : % f\" %(rmse))\n",
    "print(\"R squared: \", metrics.r2_score(test_y,pred))"
   ]
  },
  {
   "cell_type": "code",
   "execution_count": 486,
   "metadata": {},
   "outputs": [],
   "source": [
    "tst = test.drop('Close',axis=1,inplace=False)\n",
    "tst=tst.to_numpy()"
   ]
  },
  {
   "cell_type": "code",
   "execution_count": 487,
   "metadata": {},
   "outputs": [
    {
     "name": "stdout",
     "output_type": "stream",
     "text": [
      "RMSE :  1017.696200\n",
      "R squared:  0.9209157977706959\n"
     ]
    }
   ],
   "source": [
    "pred=xgb_r.predict(tst)\n",
    "rmse = np.sqrt(MSE(true_test, pred))\n",
    "print(\"RMSE : % f\" %(rmse))\n",
    "print(\"R squared: \", metrics.r2_score(true_test,pred)) "
   ]
  },
  {
   "attachments": {},
   "cell_type": "markdown",
   "metadata": {},
   "source": [
    "### Hyperparameter tuning"
   ]
  },
  {
   "cell_type": "code",
   "execution_count": 498,
   "metadata": {},
   "outputs": [
    {
     "data": {
      "text/plain": [
       "101"
      ]
     },
     "execution_count": 498,
     "metadata": {},
     "output_type": "execute_result"
    }
   ],
   "source": [
    "def accuracy(k):    \n",
    "    train_X, test_X, train_y, test_y = train_test_split(x, y,test_size = 0.3, random_state = k)\n",
    "    xgb_r = xgb.XGBRegressor(objective ='reg:tweedie',n_estimators = 40, seed = 0)\n",
    "    xgb_r.fit(train_X, train_y)\n",
    "    pred = xgb_r.predict(test_X)\n",
    "    rmse = np.sqrt(MSE(test_y, pred))\n",
    "    return rmse\n",
    "def best_rd(x):\n",
    "    d=[]\n",
    "    for i in range(0,x+1):\n",
    "        d.append(accuracy(i))\n",
    "    return d\n",
    "c =best_rd(200)\n",
    "m=c.index(min(c))\n",
    "m"
   ]
  },
  {
   "cell_type": "code",
   "execution_count": 500,
   "metadata": {},
   "outputs": [
    {
     "data": {
      "text/plain": [
       "48"
      ]
     },
     "execution_count": 500,
     "metadata": {},
     "output_type": "execute_result"
    }
   ],
   "source": [
    "def accuracy(k):    \n",
    "    train_X, test_X, train_y, test_y = train_test_split(x, y,test_size = 0.3, random_state = 101)\n",
    "    xgb_r = xgb.XGBRegressor(objective ='reg:tweedie',n_estimators = k, seed = 0)\n",
    "    xgb_r.fit(train_X, train_y)\n",
    "    pred = xgb_r.predict(test_X)\n",
    "    rmse = np.sqrt(MSE(test_y, pred))\n",
    "    return rmse\n",
    "def best_rd(x):\n",
    "    d=[]\n",
    "    for i in range(0,x+1):\n",
    "        d.append(accuracy(i))\n",
    "    return d\n",
    "c =best_rd(100)\n",
    "m=c.index(min(c))\n",
    "m"
   ]
  },
  {
   "cell_type": "code",
   "execution_count": 477,
   "metadata": {},
   "outputs": [
    {
     "data": {
      "text/plain": [
       "0"
      ]
     },
     "execution_count": 477,
     "metadata": {},
     "output_type": "execute_result"
    }
   ],
   "source": [
    "def accuracy(k):    \n",
    "    train_X, test_X, train_y, test_y = train_test_split(x, y,test_size = 0.3, random_state = 123)\n",
    "    xgb_r = xgb.XGBRegressor(objective ='reg:tweedie',n_estimators = 80, seed = k)\n",
    "    xgb_r.fit(train_X, train_y)\n",
    "    pred = xgb_r.predict(test_X)\n",
    "    rmse = np.sqrt(MSE(test_y, pred))\n",
    "    return rmse\n",
    "def best_rd(x):\n",
    "    d=[]\n",
    "    for i in range(0,x+1):\n",
    "        d.append(accuracy(i))\n",
    "    return d\n",
    "c =best_rd(200)\n",
    "m=c.index(min(c))\n",
    "m"
   ]
  },
  {
   "attachments": {},
   "cell_type": "markdown",
   "metadata": {},
   "source": [
    "### Score and Evaluation"
   ]
  },
  {
   "cell_type": "code",
   "execution_count": 490,
   "metadata": {},
   "outputs": [
    {
     "name": "stdout",
     "output_type": "stream",
     "text": [
      "RMSE :  100.990301\n",
      "R squared:  0.9999659090178227\n"
     ]
    }
   ],
   "source": [
    "y=train['Close']\n",
    "x=train.drop('Close',axis=1,inplace=False)\n",
    "train_X, test_X, train_y, test_y = train_test_split(x, y,test_size = 0.3, random_state = 101)\n",
    "xgb_r = xgb.XGBRegressor(objective ='reg:tweedie',n_estimators = 48, seed = 0)\n",
    "xgb_r.fit(train_X, train_y)\n",
    "pred = xgb_r.predict(test_X)\n",
    "rmse = np.sqrt(MSE(test_y, pred))\n",
    "print(\"RMSE : % f\" %(rmse))\n",
    "print(\"R squared: \", metrics.r2_score(test_y,pred))"
   ]
  },
  {
   "cell_type": "code",
   "execution_count": 491,
   "metadata": {},
   "outputs": [
    {
     "name": "stdout",
     "output_type": "stream",
     "text": [
      "RMSE :  353.137071\n",
      "R squared:  0.9904777396170783\n"
     ]
    }
   ],
   "source": [
    "pred=xgb_r.predict(tst)\n",
    "rmse = np.sqrt(MSE(true_test, pred))\n",
    "print(\"RMSE : % f\" %(rmse))\n",
    "print(\"R squared: \", metrics.r2_score(true_test,pred)) "
   ]
  },
  {
   "cell_type": "code",
   "execution_count": 492,
   "metadata": {},
   "outputs": [],
   "source": [
    "comparaison = pd.DataFrame()\n",
    "x = true_test.values"
   ]
  },
  {
   "cell_type": "code",
   "execution_count": 493,
   "metadata": {},
   "outputs": [],
   "source": [
    "comparaison['Predictions'] = pred\n",
    "comparaison['True_test'] = x"
   ]
  },
  {
   "cell_type": "code",
   "execution_count": 494,
   "metadata": {},
   "outputs": [
    {
     "data": {
      "text/html": [
       "<div>\n",
       "<style scoped>\n",
       "    .dataframe tbody tr th:only-of-type {\n",
       "        vertical-align: middle;\n",
       "    }\n",
       "\n",
       "    .dataframe tbody tr th {\n",
       "        vertical-align: top;\n",
       "    }\n",
       "\n",
       "    .dataframe thead th {\n",
       "        text-align: right;\n",
       "    }\n",
       "</style>\n",
       "<table border=\"1\" class=\"dataframe\">\n",
       "  <thead>\n",
       "    <tr style=\"text-align: right;\">\n",
       "      <th></th>\n",
       "      <th>Predictions</th>\n",
       "      <th>True_test</th>\n",
       "    </tr>\n",
       "  </thead>\n",
       "  <tbody>\n",
       "    <tr>\n",
       "      <th>0</th>\n",
       "      <td>16621.486328</td>\n",
       "      <td>16625.080078</td>\n",
       "    </tr>\n",
       "    <tr>\n",
       "      <th>1</th>\n",
       "      <td>16647.105469</td>\n",
       "      <td>16688.470703</td>\n",
       "    </tr>\n",
       "    <tr>\n",
       "      <th>2</th>\n",
       "      <td>16636.203125</td>\n",
       "      <td>16679.857422</td>\n",
       "    </tr>\n",
       "    <tr>\n",
       "      <th>3</th>\n",
       "      <td>16854.005859</td>\n",
       "      <td>16863.238281</td>\n",
       "    </tr>\n",
       "    <tr>\n",
       "      <th>4</th>\n",
       "      <td>16852.238281</td>\n",
       "      <td>16836.736328</td>\n",
       "    </tr>\n",
       "    <tr>\n",
       "      <th>...</th>\n",
       "      <td>...</td>\n",
       "      <td>...</td>\n",
       "    </tr>\n",
       "    <tr>\n",
       "      <th>141</th>\n",
       "      <td>26309.685547</td>\n",
       "      <td>26851.277344</td>\n",
       "    </tr>\n",
       "    <tr>\n",
       "      <th>142</th>\n",
       "      <td>27074.392578</td>\n",
       "      <td>27225.726563</td>\n",
       "    </tr>\n",
       "    <tr>\n",
       "      <th>143</th>\n",
       "      <td>26704.996094</td>\n",
       "      <td>26334.818359</td>\n",
       "    </tr>\n",
       "    <tr>\n",
       "      <th>144</th>\n",
       "      <td>26317.589844</td>\n",
       "      <td>26476.207031</td>\n",
       "    </tr>\n",
       "    <tr>\n",
       "      <th>145</th>\n",
       "      <td>26338.404297</td>\n",
       "      <td>26531.556641</td>\n",
       "    </tr>\n",
       "  </tbody>\n",
       "</table>\n",
       "<p>146 rows × 2 columns</p>\n",
       "</div>"
      ],
      "text/plain": [
       "      Predictions     True_test\n",
       "0    16621.486328  16625.080078\n",
       "1    16647.105469  16688.470703\n",
       "2    16636.203125  16679.857422\n",
       "3    16854.005859  16863.238281\n",
       "4    16852.238281  16836.736328\n",
       "..            ...           ...\n",
       "141  26309.685547  26851.277344\n",
       "142  27074.392578  27225.726563\n",
       "143  26704.996094  26334.818359\n",
       "144  26317.589844  26476.207031\n",
       "145  26338.404297  26531.556641\n",
       "\n",
       "[146 rows x 2 columns]"
      ]
     },
     "execution_count": 494,
     "metadata": {},
     "output_type": "execute_result"
    }
   ],
   "source": [
    "comparaison"
   ]
  },
  {
   "cell_type": "code",
   "execution_count": 495,
   "metadata": {},
   "outputs": [
    {
     "data": {
      "text/plain": [
       "<Axes: xlabel='Predictions', ylabel='True_test'>"
      ]
     },
     "execution_count": 495,
     "metadata": {},
     "output_type": "execute_result"
    },
    {
     "data": {
      "image/png": "[encoded data removed]",
      "text/plain": [
       "<Figure size 640x480 with 1 Axes>"
      ]
     },
     "metadata": {},
     "output_type": "display_data"
    }
   ],
   "source": [
    "sns.lineplot(comparaison,x='Predictions',y='True_test')"
   ]
  },
  {
   "cell_type": "code",
   "execution_count": 501,
   "metadata": {},
   "outputs": [],
   "source": [
    "import pickle\n",
    "with open('btc_regressor','wb') as f:\n",
    "    pickle.dump(xgb_r,f)"
   ]
  }
 ],
 "metadata": {
  "kernelspec": {
   "display_name": "Python 3",
   "language": "python",
   "name": "python3"
  },
  "language_info": {
   "codemirror_mode": {
    "name": "ipython",
    "version": 3
   },
   "file_extension": ".py",
   "mimetype": "text/x-python",
   "name": "python",
   "nbconvert_exporter": "python",
   "pygments_lexer": "ipython3",
   "version": "3.10.11"
  },
  "orig_nbformat": 4
 },
 "nbformat": 4,
 "nbformat_minor": 2
}
